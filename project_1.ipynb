{
 "cells": [
  {
   "cell_type": "markdown",
   "metadata": {},
   "source": [
    "# Project: Part 1"
   ]
  },
  {
   "cell_type": "markdown",
   "metadata": {},
   "source": [
    "Today we will (finally) begin our project! Please use the following links to read about the Twitter REST API:\n",
    "\n",
    "* REST APIs: https://dev.twitter.com/rest/public\n",
    "* For gathering information about a Twitter user's followers: https://dev.twitter.com/rest/reference/get/followers/list\n",
    "* For searching tweets using various parameters (Megan's favorite): https://dev.twitter.com/rest/reference/get/search/tweets\n",
    "\n",
    "**Our Twitter key: Q8kC59z8t8T7CCtIErEGFzAce**\n",
    "\n",
    "Other links referenced today:\n",
    "* [538 - Political statistics](http://fivethirtyeight.com/)\n",
    "* [How to apply for Twitter API key](https://apps.twitter.com/)\n",
    "* [Twitter advanced search engine](https://twitter.com/search-advanced?lang=en)\n",
    "* [Tweepy documentation](http://tweepy.readthedocs.io/en/v3.5.0/getting_started.html#api)\n",
    "* [Twitter API documentation](https://dev.twitter.com/rest/reference)"
   ]
  },
  {
   "cell_type": "markdown",
   "metadata": {},
   "source": [
    "## Search Request"
   ]
  },
  {
   "cell_type": "markdown",
   "metadata": {},
   "source": [
    "As with most Twitter API GET requests, the Tweet search returns a response in JSON. The link above gives a sample output from a search GEt request.\n",
    "\n",
    "To make a GET request using the Search API for Tweets, here are the parameters (included for convenience):\n",
    "\n",
    "*Required parameters*:\n",
    "\n",
    "* q: A [UTF-8](https://en.wikipedia.org/wiki/UTF-8), [URL-encoded](https://en.wikipedia.org/wiki/Percent-encoding) search query of 500 characters or less, including operators. May additionally be limited by complexity.\n",
    "\n",
    "*Optional parameters*:\n",
    "\n",
    "* **geocode**: Returns tweets by users located within a given radius of the given latitude/longitude. The location is preferentially taking from the Geotagging API, but will fall back to the location associated with their Twitter profile. The parameter value is specified by “latitude,longitude,radius”, where radius units must be specified as either “mi” (miles) or “km” (kilometers). Example values: 37.781157,-122.398720,1mi\n",
    "* **lang**: Restricts tweets to the given language, given by an [ISO 639-1](https://en.wikipedia.org/wiki/ISO_639-1) code. Language detection is best-effort.\n",
    "* **result_type**: Specifies what type of search results you would prefer to receive. The current default is “recent.” Valid values include:\n",
    "  * mixed: Include both popular and real time results in the response.\n",
    "  * recent: return only the most recent results in the response\n",
    "  * popular: return only the most popular results in the response.\n",
    "* **count**: The number of tweets to return per page, up to a maximum of 100. Defaults to 15. This was formerly the “rpp” parameter in the old Search API.\n",
    "* **until**: Returns tweets created before the given date. Date should be formatted as YYYY-MM-DD. Keep in mind that the search index has a 7-day limit. In other words, no tweets will be found for a date older than one week.\n",
    "* **since_id**: Returns results with an ID greater than (that is, more recent than) the specified ID. There are limits to the number of Tweets which can be accessed through the API. If the limit of Tweets has occured since the since_id, the since_id will be forced to the oldest ID available.\n",
    "* **max_id**: Returns results with an ID less than (that is, older than) or equal to the specified ID.\n",
    "\n",
    "\n",
    "*Example request*:\n",
    "GET\n",
    "https://api.twitter.com/1.1/search/tweets.json?q=%23freebandnames&since_id=24012619984051000&max_id=250126199840518145&result_type=mixed&count=4"
   ]
  },
  {
   "cell_type": "markdown",
   "metadata": {},
   "source": [
    "## Data Returned"
   ]
  },
  {
   "cell_type": "markdown",
   "metadata": {},
   "source": [
    "The data returned in each API response for a given search term includes:\n",
    "\n",
    "* Coordinates\n",
    "* Favorited, truncated, retweeted booleans\n",
    "* Much more (see documentation)"
   ]
  },
  {
   "cell_type": "markdown",
   "metadata": {},
   "source": [
    "## Tweepy: Twitter Python Library"
   ]
  },
  {
   "cell_type": "markdown",
   "metadata": {},
   "source": [
    "We will be using the Twitter Python Library, Tweepy, to make our API calls easier.\n",
    "\n",
    "In order to access Tweepy, we will need to install the library. Please try running the follow command on your machines from the terminal or command line:\n",
    "\n",
    "`pip install tweepy`\n",
    "\n",
    "Once you have completed this installation, please let us know, and then follow [this link](http://tweepy.readthedocs.io/en/v3.5.0/getting_started.html) to read the intro to Tweepy."
   ]
  },
  {
   "cell_type": "markdown",
   "metadata": {},
   "source": [
    "## Using Tweepy methods to write functions"
   ]
  },
  {
   "cell_type": "markdown",
   "metadata": {},
   "source": [
    "Now we will make some imports and use the Tweepy notation to call the Twitter API and gather some information. First, we will need to follow some steps to authenticate our program."
   ]
  },
  {
   "cell_type": "code",
   "execution_count": 2,
   "metadata": {
    "collapsed": false
   },
   "outputs": [],
   "source": [
    "# Import required libraries\n",
    "import tweepy\n",
    "# Other libraries related to APIs:\n",
    "#   requests\n",
    "#   json"
   ]
  },
  {
   "cell_type": "code",
   "execution_count": 3,
   "metadata": {
    "collapsed": false
   },
   "outputs": [],
   "source": [
    "## Our access key, mentioned above\n",
    "consumer_key = 'Q8kC59z8t8T7CCtIErEGFzAce'\n",
    "## Our signature, also given upon app creation\n",
    "consumer_secret = '24bbPpWfjjDKpp0DpIhsBj4q8tUhPQ3DoAf2UWFoN4NxIJ19Ja'\n",
    "## Our access token, generated upon request\n",
    "access_token = '719722984693448704-lGVe8IEmjzpd8RZrCBoYSMug5uoqUkP'\n",
    "## Our secret access token, also generated upon request\n",
    "access_token_secret = 'LrdtfdFSKc3gbRFiFNJ1wZXQNYEVlOobsEGffRECWpLNG'\n",
    "\n",
    "## Set of Tweepy authorization commands\n",
    "auth = tweepy.OAuthHandler(consumer_key, consumer_secret)\n",
    "auth.set_access_token(access_token, access_token_secret)\n",
    "api = tweepy.API(auth)"
   ]
  },
  {
   "cell_type": "markdown",
   "metadata": {},
   "source": [
    "Now that we have authenticated, we can make a call to the Twitter API. Here we will print Megan's Twitter feed. Note that Megan's Twitter account was created for the sole purpose of finding out the Yogurt Park flavor of the day..."
   ]
  },
  {
   "cell_type": "code",
   "execution_count": 4,
   "metadata": {
    "collapsed": false
   },
   "outputs": [
    {
     "name": "stdout",
     "output_type": "stream",
     "text": [
      "Sunday 11/7 Flavors:\n",
      "- Country Boysenberry\n",
      "- Butter Pecan (Sugar Free)\n",
      "- York Peppermint Patty\n",
      "- Cookies &amp; Cream... https://t.co/xrZNU2suLA\n",
      "Sunday 11/6 Flavors:\n",
      "- Cookies &amp; Cream\n",
      "- Hazelnut (Sugar Free)\n",
      "- York Peppermint Patty\n",
      "- Black Cherry\n",
      "-... https://t.co/nwb0R74CzI\n",
      "Saturday 11/5 Flavors:\n",
      "- York Peppermint Patty\n",
      "- Hazelnut (Sugar Free)\n",
      "- Cookies &amp; Cream\n",
      "- Black Cherry\n",
      "-... https://t.co/PbO7h8TUuf\n",
      "Friday 11/4 Flavors:\n",
      "- Cookies &amp; Cream\n",
      "- Hazelnut (Sugar Free)\n",
      "- Peanut Butter Chocolate\n",
      "- Black Cherry\n",
      "- Vanilla... https://t.co/NSHPzetLQZ\n",
      "Thursday 11/3 Flavors:\n",
      "- Peanut Butter Chocolate\n",
      "- Hazelnut (Sugar Free)\n",
      "- Black Cherry\n",
      "- Pumpkin Cheesecake\n",
      "-... https://t.co/zr4My6q9ff\n",
      "Wednesday 11/2 Flavors:\n",
      "- Black Cherry\n",
      "- Costa Rican Cappuccino (Sugar Free)\n",
      "- Pumpkin Cheesecake\n",
      "- Creamy Peanut... https://t.co/vLmMhEumom\n",
      "Tuesday 11/1 Flavors:\n",
      "- Mango\n",
      "- Costa Rican Cappuccino (Sugar Free)\n",
      "- Creamy Peanut Butter (Low Fat)\n",
      "- Pumpkin... https://t.co/vujK2I57hX\n",
      "Monday 10/31 Flavors:\n",
      "- Pumpkin Cheesecake\n",
      "- Costa Rican Cappuccino (Sugar Free)\n",
      "- Creamy Peanut Butter (Low Fat)... https://t.co/NLW9IY1ZsW\n",
      "Sunday 10/30 Flavors:\n",
      "- Mango\n",
      "- Yellow Cake Batter (Sugar Free)\n",
      "- Pumpkin Cheesecake \n",
      "- Red Velvet Cake (Low Fat)... https://t.co/aluXiFzkPb\n",
      "test tweet\n",
      "Saturday 10/29 Flavors:\n",
      "- Pumpkin Cheesecake \n",
      "- Yellow Cake Batter (Sugar Free)\n",
      "- Fresh Strawberry \n",
      "- Red Velvet... https://t.co/nlr4xnlfSM\n",
      "Friday 10/28 Flavors:\n",
      "- Fresh Strawberry\n",
      "- Yellow Cake Batter (Sugar Free)\n",
      "- Caramel Pecan Toffee\n",
      "- Red Velvet... https://t.co/1wRUxkDMMu\n",
      "Thursday 10/27 Flavors:\n",
      "- Caramel Pecan Toffee\n",
      "- Yellow Cake Batter (Sugar Free)\n",
      "- Fresh Strawberry\n",
      "- Red Velvet... https://t.co/UldHIcUOeW\n",
      "Wednesday 10/26 Flavors:\n",
      "- Fresh Strawberry\n",
      "- Pistachio Cream (Sugar Free)\n",
      "- Caramel Pecan Toffee\n",
      "- Red Velvet... https://t.co/Bij2RsJWbk\n",
      "Tuesday 10/25 Flavors:\n",
      "- Cappuccino Cafe\n",
      "- Pistachio Cream (Sugar Free)\n",
      "- Maine Blueberry\n",
      "- Thin Mint Cookie\n",
      "-... https://t.co/PKYjVcxZIe\n",
      "Monday 10/24 Flavors:\n",
      "- Thin Mint Cookie\n",
      "- Pistachio Cream (Sugar Free)\n",
      "- Maine Blueberry\n",
      "- Cappuccino Cafe\n",
      "-... https://t.co/6SmCQAsjSQ\n",
      "Sunday 10/23 Flavors:\n",
      "- Cappuccino Cafe\n",
      "- Pistachio Cream (Sugar Free)\n",
      "- Thin Mint Cookie\n",
      "- Maine Blueberry \n",
      "-... https://t.co/HFvolZpiC8\n",
      "Friday 10/21 Flavors:\n",
      "- Maine Blueberry\n",
      "- Southern Pecan &amp; Pralines (Sugar Free)\n",
      "- Thin Mint Cookie\n",
      "- Cappuccino... https://t.co/80eaxZsO17\n",
      "Thursday 10/20 Flavors:\n",
      "- Pumpkin Pie\n",
      "- Southern Pecan &amp; Pralines (Sugar Free)\n",
      "- Georgia Peach\n",
      "- Irish Mint\n",
      "-... https://t.co/zman19kvXg\n",
      "Wednesday 10/19 Flavors:\n",
      "- Georgia Peach\n",
      "- Southern Pecan &amp; Pralines (Sugar Free)\n",
      "- Irish Mint\n",
      "- Pumpkin Pie\n",
      "-... https://t.co/7JWvsqvZ0y\n"
     ]
    }
   ],
   "source": [
    "## Print all of the tweents on my timeline\n",
    "public_tweets = api.home_timeline()\n",
    "tweet_texts = []\n",
    "for tweet in public_tweets:\n",
    "    tweet_texts.append(tweet.text)\n",
    "    print(tweet.text)"
   ]
  },
  {
   "cell_type": "markdown",
   "metadata": {},
   "source": [
    "What might we able to do with this information? What do you expect the following function to output based on the above output?"
   ]
  },
  {
   "cell_type": "code",
   "execution_count": 5,
   "metadata": {
    "collapsed": false
   },
   "outputs": [
    {
     "name": "stdout",
     "output_type": "stream",
     "text": [
      "Top flavor for Sunday 11/7 was Country Boysenberry\n",
      "Top flavor for Sunday 11/6 was Cookies &amp; Cream\n",
      "Top flavor for Saturday 11/5 was York Peppermint Patty\n",
      "Top flavor for Friday 11/4 was Cookies &amp; Cream\n",
      "Top flavor for Thursday 11/3 was Peanut Butter Chocolate\n",
      "Top flavor for Wednesday 11/2 was Black Cherry\n",
      "Top flavor for Tuesday 11/1 was Mango\n",
      "Top flavor for Monday 10/31 was Pumpkin Cheesecake\n",
      "Top flavor for Sunday 10/30 was Mango\n",
      "Top flavor for test tweewastest twee\n",
      "Top flavor for Saturday 10/29 was Pumpkin Cheesecake \n",
      "Top flavor for Friday 10/28 was Fresh Strawberry\n",
      "Top flavor for Thursday 10/27 was Caramel Pecan Toffee\n",
      "Top flavor for Wednesday 10/26 was Fresh Strawberry\n",
      "Top flavor for Tuesday 10/25 was Cappuccino Cafe\n",
      "Top flavor for Monday 10/24 was Thin Mint Cookie\n",
      "Top flavor for Sunday 10/23 was Cappuccino Cafe\n",
      "Top flavor for Friday 10/21 was Maine Blueberry\n",
      "Top flavor for Thursday 10/20 was Pumpkin Pie\n",
      "Top flavor for Wednesday 10/19 was Georgia Peach\n"
     ]
    }
   ],
   "source": [
    "def parse_flavors(tweets):\n",
    "    for tweet in tweets:\n",
    "        date = tweet[0:tweet.find(\"Flavors\")]\n",
    "        start = tweet.find('- ')\n",
    "        rest = start + 1\n",
    "        end = tweet[rest:].find('\\n') + rest\n",
    "        flavor = tweet[rest:end]\n",
    "        print(\"Top flavor for \" + date + \"was\" + flavor)\n",
    "    \n",
    "parse_flavors(tweet_texts)\n",
    "        "
   ]
  },
  {
   "cell_type": "markdown",
   "metadata": {},
   "source": [
    "Now we will focus a little closer on our project objective: to gather data about the election. Here we will make variables for each of the presidential candidates."
   ]
  },
  {
   "cell_type": "code",
   "execution_count": 6,
   "metadata": {
    "collapsed": false
   },
   "outputs": [
    {
     "name": "stdout",
     "output_type": "stream",
     "text": [
      "realDonaldTrump\n",
      "13004493\n"
     ]
    }
   ],
   "source": [
    "donald = api.get_user('realDonaldTrump')\n",
    "print(donald.screen_name)\n",
    "print(donald.followers_count)"
   ]
  },
  {
   "cell_type": "code",
   "execution_count": 7,
   "metadata": {
    "collapsed": false
   },
   "outputs": [
    {
     "name": "stdout",
     "output_type": "stream",
     "text": [
      "HillaryClinton\n",
      "10240667\n"
     ]
    }
   ],
   "source": [
    "hillary = api.get_user('HillaryClinton')\n",
    "print(hillary.screen_name)\n",
    "print(hillary.followers_count)"
   ]
  },
  {
   "cell_type": "markdown",
   "metadata": {},
   "source": [
    "Here are some example functions to give you an idea of how to use the Tweepy API calls to output some info. To get an idea of the types of information that you can gather about a user, follow [this link](https://dev.twitter.com/rest/reference/get/users/show) and look over the sample output. That is a JSON dictionary, where each of the keys are user attributes that we can access using dot notation. See the below functions for examples."
   ]
  },
  {
   "cell_type": "code",
   "execution_count": 8,
   "metadata": {
    "collapsed": false
   },
   "outputs": [
    {
     "name": "stdout",
     "output_type": "stream",
     "text": [
      "More popular user is realDonaldTrump\n",
      "These users are equally popular\n"
     ]
    }
   ],
   "source": [
    "def print_most_popular(user1, user2):\n",
    "    user1_followers_count = api.get_user(user1).followers_count\n",
    "    user2_followers_count = api.get_user(user2).followers_count\n",
    "    if (user1_followers_count > user2_followers_count):\n",
    "        print(\"More popular user is \" + user1)\n",
    "    elif (user2_followers_count > user1_followers_count):\n",
    "        print(\"More popular user is \" + user2)\n",
    "    else:\n",
    "        print(\"These users are equally popular\")\n",
    "        \n",
    "print_most_popular('HillaryClinton', 'realDonaldTrump')\n",
    "print_most_popular('HillaryClinton', 'HillaryClinton')"
   ]
  },
  {
   "cell_type": "code",
   "execution_count": 9,
   "metadata": {
    "collapsed": false
   },
   "outputs": [
    {
     "name": "stdout",
     "output_type": "stream",
     "text": [
      "Account HillaryClinton has base location New York, NY\n",
      "Account realDonaldTrump has base location New York, NY\n",
      "Account twitter has base location San Francisco, CA\n"
     ]
    }
   ],
   "source": [
    "def print_user_location(username):\n",
    "    print(\"Account \" + username + \" has base location \" +\n",
    "          api.get_user(username).location)\n",
    "    \n",
    "print_user_location('HillaryClinton')\n",
    "print_user_location('realDonaldTrump')\n",
    "print_user_location('twitter')"
   ]
  }
 ],
 "metadata": {
  "kernelspec": {
   "display_name": "Python 3",
   "language": "python",
   "name": "python3"
  },
  "language_info": {
   "codemirror_mode": {
    "name": "ipython",
    "version": 3
   },
   "file_extension": ".py",
   "mimetype": "text/x-python",
   "name": "python",
   "nbconvert_exporter": "python",
   "pygments_lexer": "ipython3",
   "version": "3.4.5"
  }
 },
 "nbformat": 4,
 "nbformat_minor": 0
}
