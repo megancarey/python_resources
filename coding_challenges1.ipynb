{
 "cells": [
  {
   "cell_type": "markdown",
   "metadata": {},
   "source": [
    "# Code Challenges"
   ]
  },
  {
   "cell_type": "markdown",
   "metadata": {},
   "source": [
    "For those of you trying to improve your skills on the basics, here are some challenges! They increase in difficulty, so please try to do them in order. Many of them require that you keep track of some value that is different from your inputs, so make sure to take advantage of variables! I put some skeleton code for the first 3 methods, so use pattern-matching to define the last two.\n",
    "\n",
    "1. Implement a function that takes in a list of numbers and prints them out if they are less than 10.\n",
    "2. Implement a function that takes in three numbers and returns their sum.\n",
    "3. Implement a function that takes in a list of strings and prints every other string. Hint: check our example 2 from class.\n",
    "4. Implement a function that takes in two inputs: a number x and a list of numbers. Return a count of the number of times that the number x appears in the list.\n",
    "5. Implement a function that takes in a list of numbers and returns the maximum (greatest number) from the list. Assume that all of the numbers in the list are positive numbers.\n",
    "\n",
    "I also included our solutions for the coding challenges in class at the bottom.\n",
    "\n",
    "Not had enough? Check this link for more puzzles: http://codingbat.com/python"
   ]
  },
  {
   "cell_type": "code",
   "execution_count": null,
   "metadata": {
    "collapsed": true
   },
   "outputs": [],
   "source": [
    "def print_less_than_ten(lst):\n",
    "    "
   ]
  },
  {
   "cell_type": "code",
   "execution_count": null,
   "metadata": {
    "collapsed": true
   },
   "outputs": [],
   "source": [
    "def sum_of_three(x, y, z):\n",
    "    "
   ]
  },
  {
   "cell_type": "code",
   "execution_count": null,
   "metadata": {
    "collapsed": true
   },
   "outputs": [],
   "source": [
    "def print_every_other(lst):\n",
    "    "
   ]
  },
  {
   "cell_type": "code",
   "execution_count": null,
   "metadata": {
    "collapsed": true
   },
   "outputs": [],
   "source": []
  },
  {
   "cell_type": "code",
   "execution_count": null,
   "metadata": {
    "collapsed": true
   },
   "outputs": [],
   "source": []
  },
  {
   "cell_type": "markdown",
   "metadata": {},
   "source": [
    "Here are our solutions for the in-class coding challenges:"
   ]
  },
  {
   "cell_type": "code",
   "execution_count": null,
   "metadata": {
    "collapsed": false
   },
   "outputs": [],
   "source": [
    "## Megan's solution to challenge 1:\n",
    "def x_in_list(x, lst):\n",
    "    for i in lst:\n",
    "        if i == x:\n",
    "            return True\n",
    "    return False\n",
    "\n",
    "print(x_in_list(3, [1, 2, 3, 4]))\n",
    "print(x_in_list(5, [1, 2, 3, 4]))"
   ]
  },
  {
   "cell_type": "code",
   "execution_count": null,
   "metadata": {
    "collapsed": false
   },
   "outputs": [],
   "source": [
    "## Megan's solution to challenge 2:\n",
    "def m_square_every_other(lst):\n",
    "    even = True\n",
    "    for i in range(len(lst)):\n",
    "        if (even):\n",
    "            lst[i] = lst[i] * lst[i]\n",
    "            even = False\n",
    "        else:\n",
    "            even = True\n",
    "    return lst\n",
    "\n",
    "m_square_every_other([1, 2, 3, 4, 5])"
   ]
  },
  {
   "cell_type": "code",
   "execution_count": null,
   "metadata": {
    "collapsed": false
   },
   "outputs": [],
   "source": [
    "## Liza's solution to challenge 2 (more advanced):\n",
    "def l_square_every_other(lst):\n",
    "    i = 0\n",
    "    while i < len(lst):\n",
    "        if i % 2 == 0:\n",
    "            lst[i] = lst[i] ** 2\n",
    "        i += 1\n",
    "    return lst\n",
    "\n",
    "l_square_every_other([1, 2, 3, 4, 5])"
   ]
  }
 ],
 "metadata": {
  "kernelspec": {
   "display_name": "Python 3",
   "language": "python",
   "name": "python3"
  },
  "language_info": {
   "codemirror_mode": {
    "name": "ipython",
    "version": 3
   },
   "file_extension": ".py",
   "mimetype": "text/x-python",
   "name": "python",
   "nbconvert_exporter": "python",
   "pygments_lexer": "ipython3",
   "version": "3.4.4"
  }
 },
 "nbformat": 4,
 "nbformat_minor": 0
}
