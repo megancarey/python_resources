{
 "cells": [
  {
   "cell_type": "markdown",
   "metadata": {},
   "source": [
    "# Code Challenges: Solutions"
   ]
  },
  {
   "cell_type": "markdown",
   "metadata": {},
   "source": [
    "Here are solutions to the coding challenges posted on the website earlier this week. As a reminder, here are the descriptions of the challenges:\n",
    "\n",
    "1. Implement a function that takes in a list of numbers and prints them out if they are less than 10.\n",
    "2. Implement a function that takes in three numbers and returns their sum.\n",
    "3. Implement a function that takes in a list of strings and prints every other string. Hint: check our example 2 from class.\n",
    "4. Implement a function that takes in two inputs: a number x and a list of numbers. Return a count of the number of times that the number x appears in the list.\n",
    "5. Implement a function that takes in a list of numbers and returns the maximum (greatest number) from the list. Assume that all of the numbers in the list are positive numbers.\n",
    "\n",
    "Below are our solutions, but please keep in mind that *there are many possible solutions,* and just because yours doesn't match ours does not make it invalid!"
   ]
  },
  {
   "cell_type": "code",
   "execution_count": null,
   "metadata": {
    "collapsed": false
   },
   "outputs": [],
   "source": [
    "## Solution to challenge 1\n",
    "\n",
    "def print_less_than_ten(lst):\n",
    "    for num in lst:\n",
    "        if num < 10:\n",
    "            print(num)\n",
    "\n",
    "print_less_than_ten([1, 2, 3, 9, 10, 11, 12, 30])"
   ]
  },
  {
   "cell_type": "code",
   "execution_count": null,
   "metadata": {
    "collapsed": false
   },
   "outputs": [],
   "source": [
    "## Solution to challenge 2\n",
    "\n",
    "def sum_of_three(x, y, z):\n",
    "    return x + y + x\n",
    "\n",
    "print(sum_of_three(1, 1, 1))\n",
    "print(sum_of_three(1000, 899, 6))"
   ]
  },
  {
   "cell_type": "code",
   "execution_count": null,
   "metadata": {
    "collapsed": false
   },
   "outputs": [],
   "source": [
    "## Solution to challenge 3\n",
    "\n",
    "def print_every_other(lst):\n",
    "    even = True\n",
    "    for item in lst:\n",
    "        if even:\n",
    "            print(item)\n",
    "            even = False\n",
    "        else:\n",
    "            even = True\n",
    "\n",
    "print_every_other([1, 2, 3, 4, 5])"
   ]
  },
  {
   "cell_type": "code",
   "execution_count": null,
   "metadata": {
    "collapsed": false
   },
   "outputs": [],
   "source": [
    "## Solution to challenge 4\n",
    "\n",
    "def count_appearances(x, lst):\n",
    "    count = 0\n",
    "    for num in lst:\n",
    "        if num == x:\n",
    "            count = count + 1\n",
    "    return count\n",
    "\n",
    "lst = [1, 3, 3, 4, 5, 6]\n",
    "print(count_appearances(3, lst))\n",
    "print(count_appearances(0, lst))\n",
    "print(count_appearances(5, lst))"
   ]
  },
  {
   "cell_type": "code",
   "execution_count": null,
   "metadata": {
    "collapsed": false
   },
   "outputs": [],
   "source": [
    "## Solution to challenge 5\n",
    "\n",
    "def return_max(lst):\n",
    "    max_val = -1\n",
    "    for num in lst:\n",
    "        if num > max_val:\n",
    "            max_val = num\n",
    "    return max_val\n",
    "\n",
    "print(return_max([1, 2, 3, 4]))\n",
    "print(return_max([6, 2, 7]))"
   ]
  },
  {
   "cell_type": "code",
   "execution_count": null,
   "metadata": {
    "collapsed": true
   },
   "outputs": [],
   "source": []
  }
 ],
 "metadata": {
  "kernelspec": {
   "display_name": "Python 3",
   "language": "python",
   "name": "python3"
  },
  "language_info": {
   "codemirror_mode": {
    "name": "ipython",
    "version": 3
   },
   "file_extension": ".py",
   "mimetype": "text/x-python",
   "name": "python",
   "nbconvert_exporter": "python",
   "pygments_lexer": "ipython3",
   "version": "3.4.4"
  }
 },
 "nbformat": 4,
 "nbformat_minor": 0
}
