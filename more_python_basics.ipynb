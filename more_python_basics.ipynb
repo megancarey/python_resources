{
 "cells": [
  {
   "cell_type": "markdown",
   "metadata": {},
   "source": [
    "# More Python Basics"
   ]
  },
  {
   "cell_type": "markdown",
   "metadata": {},
   "source": [
    "Welcome back! This week we will cover some more basic Python stuff. Specifically:\n",
    "* Code readability and comments\n",
    "* Import statements\n",
    "* Control flow\n",
    "* Dictionaries\n",
    "\n",
    "We will also work on writing some basic functions to pull what we've learned together."
   ]
  },
  {
   "cell_type": "markdown",
   "metadata": {},
   "source": [
    "## Code readability"
   ]
  },
  {
   "cell_type": "markdown",
   "metadata": {},
   "source": [
    "When writing code, it is very important to keep in mind that you'll need to make sense of it later. There are a lot of ways to make your code more readable. Here are a few:\n",
    "* Practicing Python naming conventions\n",
    "* \"Decomposing\" problems\n",
    "* Adding comments"
   ]
  },
  {
   "cell_type": "markdown",
   "metadata": {},
   "source": [
    "### Python naming conventions"
   ]
  },
  {
   "cell_type": "markdown",
   "metadata": {},
   "source": [
    "In most programming languages, there is a standard way of naming variables and functions. Some common ones are:\n",
    "* Camel case: yourVariableNameHere\n",
    "* Underscores: your_variable_name_here\n",
    "\n",
    "In Python, we use the underscore technique. We never use uppercase letters, except in the case of \"[enums](http://pythoncentral.io/how-to-implement-an-enum-in-python/)\" - these are static variables whose values should never change. These are rarely used, though, so it's best to assume that we won't use capitalization. Here's some sample code to demonstrate that."
   ]
  },
  {
   "cell_type": "code",
   "execution_count": 1,
   "metadata": {
    "collapsed": false
   },
   "outputs": [
    {
     "data": {
      "text/plain": [
       "50"
      ]
     },
     "execution_count": 1,
     "metadata": {},
     "output_type": "execute_result"
    }
   ],
   "source": [
    "my_age = 0\n",
    "\n",
    "def how_many_birthdays_til_im_50(age):\n",
    "    return 50 - age\n",
    "\n",
    "how_many_birthdays_til_im_50(my_age)"
   ]
  },
  {
   "cell_type": "markdown",
   "metadata": {},
   "source": [
    "### Decomposing problems"
   ]
  },
  {
   "cell_type": "markdown",
   "metadata": {},
   "source": [
    "Another important technique in writing good code is breaking problems down. In many cases, within a function, you will perform several operations. It is often best to \"abstract\" these methods away. Write new sub-functions and call them within your greater function, so you don't have one 50-line function."
   ]
  },
  {
   "cell_type": "code",
   "execution_count": 2,
   "metadata": {
    "collapsed": false
   },
   "outputs": [
    {
     "data": {
      "text/plain": [
       "3.0"
      ]
     },
     "execution_count": 2,
     "metadata": {},
     "output_type": "execute_result"
    }
   ],
   "source": [
    "def mother_function(num):\n",
    "    original = num\n",
    "    num = add_five(num)\n",
    "    num = double(num)\n",
    "    num = subtract_four(num)\n",
    "    num = halve(num)\n",
    "    num = subtract(num, original)\n",
    "    return num\n",
    "\n",
    "def add_five(num):\n",
    "    return num + 5\n",
    "\n",
    "def double(num):\n",
    "    return 2 * num\n",
    "\n",
    "def subtract_four(num):\n",
    "    return num - 4\n",
    "\n",
    "def halve(num):\n",
    "    return num / 2\n",
    "\n",
    "def subtract(num1, num2):\n",
    "    return num1 - num2\n",
    "\n",
    "mother_function(37)\n",
    "    "
   ]
  },
  {
   "cell_type": "markdown",
   "metadata": {
    "collapsed": true
   },
   "source": [
    "Try messing around with the inputs to this function. What does it return? How might you rename the outer function to clarify its purpose?"
   ]
  },
  {
   "cell_type": "markdown",
   "metadata": {},
   "source": [
    "### Comments"
   ]
  },
  {
   "cell_type": "markdown",
   "metadata": {},
   "source": [
    "A final (very important!) trick to writing good code is adding comments. This may seem trivial, but if you don't explain your thought process for a piece of code, it can be very difficult to figure out later.\n",
    "\n",
    "There are several ways to write comments in your code:\n",
    "* `#` and `##` denote one-line comments\n",
    "* `\"\"\" x \"\"\"`: triple quotation marks denote multiple-line comments\n",
    "\n",
    "Sometimes it is even good practice to give examples of input/output pairs in the comments, so that users know what they should expect when using the function. Here is some sample code to demonstrate this."
   ]
  },
  {
   "cell_type": "code",
   "execution_count": 3,
   "metadata": {
    "collapsed": false
   },
   "outputs": [
    {
     "data": {
      "text/plain": [
       "25"
      ]
     },
     "execution_count": 3,
     "metadata": {},
     "output_type": "execute_result"
    }
   ],
   "source": [
    "## This is our function.\n",
    "def func(x):\n",
    "    \"\"\" We take in a number x and square it.\n",
    "        Sample input/output pairs:\n",
    "        3 : 9\n",
    "        6 : 36\n",
    "        7 : 49\n",
    "    \"\"\"\n",
    "    return x * x\n",
    "\n",
    "func(5)"
   ]
  },
  {
   "cell_type": "markdown",
   "metadata": {},
   "source": [
    "## Import statements"
   ]
  },
  {
   "cell_type": "markdown",
   "metadata": {},
   "source": [
    "Import statements allow you to import pre-defined Python libraries as well as local files. This allows for us to avoid rewriting methods that are already available for use. Some common libraries that we will use this semester are `matplotlib`, `scipy`, and `numpy`.\n",
    "\n",
    "To write an import statement, simply write \"`import` + the name of your library\".\n",
    "\n",
    "In some cases, the name of your library will be long, so you will want to use an abbreviation to refer to that library. In that case, you would write \"`import` + the name of your library + `as` + the library's nickname\".\n",
    "\n",
    "It is typical to put all import statements at the top of your file. Here is some sample code to demonstrate this."
   ]
  },
  {
   "cell_type": "code",
   "execution_count": 4,
   "metadata": {
    "collapsed": false
   },
   "outputs": [
    {
     "name": "stdout",
     "output_type": "stream",
     "text": [
      "Populating the interactive namespace from numpy and matplotlib\n"
     ]
    },
    {
     "name": "stderr",
     "output_type": "stream",
     "text": [
      "WARNING: pylab import has clobbered these variables: ['subtract', 'double']\n",
      "`%matplotlib` prevents importing * from pylab and numpy\n"
     ]
    },
    {
     "data": {
      "image/png": "[encoded data removed]",
      "text/plain": [
       "<matplotlib.figure.Figure at 0x104ec6470>"
      ]
     },
     "metadata": {},
     "output_type": "display_data"
    }
   ],
   "source": [
    "%pylab inline\n",
    "import numpy as np\n",
    "import matplotlib.pyplot as plt\n",
    "import math\n",
    "\n",
    "plt.plot([1, 2, 3, 4, 5], [1000, 10000, 100000, 500000, 1000000])\n",
    "plt.xlabel('Time (months)')\n",
    "plt.ylabel('$$$')\n",
    "plt.axis([0, 5, 0, 1000000])\n",
    "plt.title('Average salaries of people who know Python')\n",
    "plt.show()\n"
   ]
  },
  {
   "cell_type": "markdown",
   "metadata": {},
   "source": [
    "## Control flow"
   ]
  },
  {
   "cell_type": "markdown",
   "metadata": {},
   "source": [
    "When writing code, we need to establish a very clear set of instructions to follow in order for our program to work properly. Just as we covered with while loops, we might want our program to act according to the value of some condition. A simple real-life example of this would be \"pour water into the glass while it is not full.\"\n",
    "\n",
    "Similarly, we might have a condition that determines between two actions or operations at any given time. For example, \"if I'm running late, I should walk faster; otherwise, I can relax.\""
   ]
  },
  {
   "cell_type": "markdown",
   "metadata": {},
   "source": [
    "### If, else, and elif"
   ]
  },
  {
   "cell_type": "markdown",
   "metadata": {},
   "source": [
    "In Python, these conditional statements take the form of \"`if` / `else`\" statements.\n",
    "\n",
    "Aside from \"`if`\" and \"`else`\", there is one more case, called \"`elif`.\" This is short for \"`else if`.\" `elif` is useful when you want to check that multiple conditions are true (or untrue) before you end up at your default `else` case.  \n",
    "\n",
    "Here is some sample code to demonstrate this idea."
   ]
  },
  {
   "cell_type": "code",
   "execution_count": 7,
   "metadata": {
    "collapsed": false
   },
   "outputs": [
    {
     "name": "stdout",
     "output_type": "stream",
     "text": [
      "Your number, 4, is less than 5.\n",
      "You input 4\n",
      "Your number, 11, is greater than 5.\n",
      "Your number, 5, is equal to 5.\n"
     ]
    }
   ],
   "source": [
    "\"\"\" The syntax of an if, then statement is as follows:\n",
    "    if (boolean condition):\n",
    "        do something\n",
    "    else:\n",
    "        do something else\n",
    "\"\"\"\n",
    "\n",
    "def compare_to_five(num):\n",
    "    if num < 5:\n",
    "        print(\"Your number, \" + str(num) + \", is less than 5.\")\n",
    "    if num == 4:\n",
    "        print(\"You input 4\")\n",
    "    elif num == 5:\n",
    "        print(\"Your number, \" + str(num) + \", is equal to 5.\")\n",
    "    else:\n",
    "        print(\"Your number, \" + str(num) + \", is greater than 5.\")\n",
    "        \n",
    "compare_to_five(4)\n",
    "compare_to_five(11)\n",
    "compare_to_five(5)"
   ]
  },
  {
   "cell_type": "markdown",
   "metadata": {},
   "source": [
    "## Boolean Conditionals"
   ]
  },
  {
   "cell_type": "markdown",
   "metadata": {},
   "source": [
    "To have greater control when checking conditions in `if` statements, we have the options of using `and`, `or`, and `not` to combine or modify boolean expressions. When using these keywords, the boolean value of the entire expression is evaluated.\n",
    "\n",
    "For an `and` statement to be `True`, both sub-expressions must evaluate to `True`. If one or both of the sub-expressions is `False`, the entire statement evaluates to `False`. Try to predict the outcome, `True` or `False`, of each of the expressions below before running the code:"
   ]
  },
  {
   "cell_type": "code",
   "execution_count": 8,
   "metadata": {
    "collapsed": false
   },
   "outputs": [
    {
     "name": "stdout",
     "output_type": "stream",
     "text": [
      "True\n",
      "False\n",
      "False\n",
      "True\n",
      "False\n",
      "False\n",
      "True\n"
     ]
    }
   ],
   "source": [
    "print(True and True)\n",
    "print(False and False)\n",
    "print(False and True)\n",
    "print(5 > 2 and 3 == 3)\n",
    "print(8 * 8 < 1 and 4 - 1 == 3)\n",
    "print(False and 1/0)\n",
    "print('Hello' == 'Hello' and True != False)"
   ]
  },
  {
   "cell_type": "markdown",
   "metadata": {},
   "source": [
    "For an `or` statement to be `True`, only one of its sub-expressions has to be `True`. This means that the only time when an `or` statement evaluates to `False` is when both of its sub-expressions are `False`. For exampe:"
   ]
  },
  {
   "cell_type": "code",
   "execution_count": 9,
   "metadata": {
    "collapsed": false
   },
   "outputs": [
    {
     "name": "stdout",
     "output_type": "stream",
     "text": [
      "True\n",
      "False\n",
      "True\n",
      "True\n",
      "True\n",
      "True\n",
      "False\n"
     ]
    }
   ],
   "source": [
    "print(True or True)\n",
    "print(False or False)\n",
    "print(True or False)\n",
    "print(6 != 6 or \"apple\" == 'apple')\n",
    "print(1 + 1 == 2 or True)\n",
    "print(True or 1/0)\n",
    "print(\"p\" == \"q\" or 5 > 6)"
   ]
  },
  {
   "cell_type": "markdown",
   "metadata": {},
   "source": [
    "A `not` statement negates the boolean value of its sub-expression. `True` becomes `False`, and `False` becomes `True`. Unlike `and` and `or`, `not` has only one sub-expression. Try the code below:"
   ]
  },
  {
   "cell_type": "code",
   "execution_count": 10,
   "metadata": {
    "collapsed": false
   },
   "outputs": [
    {
     "name": "stdout",
     "output_type": "stream",
     "text": [
      "False\n",
      "True\n",
      "False\n",
      "True\n"
     ]
    }
   ],
   "source": [
    "print(not True)\n",
    "print(not False)\n",
    "print(not 2 + 2 == 4)\n",
    "print(not 5 != 5)"
   ]
  },
  {
   "cell_type": "markdown",
   "metadata": {},
   "source": [
    "We can also combine `and`, `or`, and `not`. To make code easier to read, you can use parentheses to establish the precedence of `and`, `or`, and `not` operators. Otherwise, the default order of precedence is `not` over `and` over `or`:"
   ]
  },
  {
   "cell_type": "code",
   "execution_count": 11,
   "metadata": {
    "collapsed": false
   },
   "outputs": [
    {
     "name": "stdout",
     "output_type": "stream",
     "text": [
      "True\n",
      "True\n",
      "True\n",
      "False\n",
      "True\n"
     ]
    }
   ],
   "source": [
    "print((True or False) and True)\n",
    "print((False and False) or not False)\n",
    "print((not False) and True)\n",
    "print(not True or False)\n",
    "print((3 * 3 == 9 and 3 > 2) or not 1 != 1)"
   ]
  },
  {
   "cell_type": "markdown",
   "metadata": {},
   "source": [
    "Boolean logic expression are often used within `if` statements:"
   ]
  },
  {
   "cell_type": "code",
   "execution_count": 12,
   "metadata": {
    "collapsed": false
   },
   "outputs": [
    {
     "name": "stdout",
     "output_type": "stream",
     "text": [
      "The second condition is true!\n"
     ]
    }
   ],
   "source": [
    "if (3 * 4 == 12 and not \"hi\" == \"hi\"):\n",
    "    print(\"The first condition is true!\")\n",
    "elif (not True or 7 == 7):\n",
    "    print(\"The second condition is true!\")\n",
    "else:\n",
    "    print(\"Neither condition is true!\")"
   ]
  },
  {
   "cell_type": "markdown",
   "metadata": {},
   "source": [
    "## Dictionaries"
   ]
  },
  {
   "cell_type": "markdown",
   "metadata": {
    "collapsed": true
   },
   "source": [
    "Dictionaries are another kind of data structure in Python, designed around key-value pairs, where you use the key to access the value. They are created with curly braces `{}`, and key-value pairs are separated by a colon. The keys and values can be almost any data type. For example, in the code below, the keys are strings (the names) and the values are integers (the ages):"
   ]
  },
  {
   "cell_type": "code",
   "execution_count": 13,
   "metadata": {
    "collapsed": false
   },
   "outputs": [
    {
     "name": "stdout",
     "output_type": "stream",
     "text": [
      "The dictionary is: {'sue': 12, 'sally': 30, 'jack': 25, 'joe': 44}\n",
      "Jack is 25 years old.\n"
     ]
    }
   ],
   "source": [
    "ages = {\"jack\": 25, \"sue\": 12, \"joe\": 44, \"sally\": 30}\n",
    "jack_age = ages[\"jack\"]\n",
    "\n",
    "print(\"The dictionary is: \" + str(ages))\n",
    "\n",
    "print(\"Jack is \" + str(jack_age) + \" years old.\")"
   ]
  },
  {
   "cell_type": "markdown",
   "metadata": {},
   "source": [
    "Adding a new value into the dictionary is similar to accessing a value with a key:"
   ]
  },
  {
   "cell_type": "code",
   "execution_count": 14,
   "metadata": {
    "collapsed": false
   },
   "outputs": [
    {
     "name": "stdout",
     "output_type": "stream",
     "text": [
      "Dictionary before adding 'fred': {'sue': 12, 'sally': 30, 'jack': 25, 'joe': 44}\n",
      "Dictionary after adding 'fred': {'fred': 28, 'sue': 12, 'sally': 30, 'jack': 25, 'joe': 44}\n"
     ]
    }
   ],
   "source": [
    "print(\"Dictionary before adding 'fred': \" + str(ages))\n",
    "ages[\"fred\"] = 28\n",
    "print(\"Dictionary after adding 'fred': \" + str(ages))"
   ]
  },
  {
   "cell_type": "markdown",
   "metadata": {},
   "source": [
    "To delete a key value pair, use the `del` keyword:"
   ]
  },
  {
   "cell_type": "code",
   "execution_count": 15,
   "metadata": {
    "collapsed": false
   },
   "outputs": [
    {
     "name": "stdout",
     "output_type": "stream",
     "text": [
      "Dictionary before deleting 'sue': {'fred': 28, 'sue': 12, 'sally': 30, 'jack': 25, 'joe': 44}\n",
      "Dictionary after deleting 'sue': {'fred': 28, 'sally': 30, 'jack': 25, 'joe': 44}\n"
     ]
    }
   ],
   "source": [
    "print(\"Dictionary before deleting 'sue': \" + str(ages))\n",
    "del ages[\"sue\"]\n",
    "print(\"Dictionary after deleting 'sue': \" + str(ages))"
   ]
  },
  {
   "cell_type": "markdown",
   "metadata": {},
   "source": [
    "Note that unlike lists, dictionaries aren't ordered. You can still iterate (use loops) over them, but you can't count on the key-value pairs to be in any specific order. For example, the code below uses a `for` loop to add 10 to every age:"
   ]
  },
  {
   "cell_type": "code",
   "execution_count": 16,
   "metadata": {
    "collapsed": false
   },
   "outputs": [
    {
     "name": "stdout",
     "output_type": "stream",
     "text": [
      "Before the for loop: {'fred': 28, 'sally': 30, 'jack': 25, 'joe': 44}\n",
      "After the for loop: {'fred': 38, 'sally': 40, 'jack': 35, 'joe': 54}\n"
     ]
    }
   ],
   "source": [
    "print(\"Before the for loop: \" + str(ages))\n",
    "for i in ages:\n",
    "    ages[i] += 10\n",
    "print(\"After the for loop: \" + str(ages))"
   ]
  },
  {
   "cell_type": "markdown",
   "metadata": {
    "collapsed": true
   },
   "source": [
    "## Coding Challenge"
   ]
  },
  {
   "cell_type": "markdown",
   "metadata": {},
   "source": [
    "Now you're ready to put your new skills to the test! Pair up with someone and tackle this coding challenge:\n",
    "\n",
    "Write a function that takes in two inputs: a number x, and a list of numbers. Return true if x is in the list of numbers. Return false otherwise.\n",
    "\n",
    "Good luck! :)"
   ]
  },
  {
   "cell_type": "markdown",
   "metadata": {
    "collapsed": true
   },
   "source": [
    "If you finish early, try writing a function that takes in a list and squares every other number in the list."
   ]
  },
  {
   "cell_type": "code",
   "execution_count": 17,
   "metadata": {
    "collapsed": false
   },
   "outputs": [
    {
     "data": {
      "text/plain": [
       "[1, 2, 9, 4, 25]"
      ]
     },
     "execution_count": 17,
     "metadata": {},
     "output_type": "execute_result"
    }
   ],
   "source": [
    "def square_every_other(lst):\n",
    "    even = True\n",
    "    for i in range(len(lst)):\n",
    "        if (even):\n",
    "            lst[i] = lst[i] * lst[i]\n",
    "            even = False\n",
    "        else:\n",
    "            even = True\n",
    "    return lst\n",
    "\n",
    "square_every_other([1, 2, 3, 4, 5])"
   ]
  },
  {
   "cell_type": "code",
   "execution_count": null,
   "metadata": {
    "collapsed": true
   },
   "outputs": [],
   "source": []
  }
 ],
 "metadata": {
  "kernelspec": {
   "display_name": "Python 3",
   "language": "python",
   "name": "python3"
  },
  "language_info": {
   "codemirror_mode": {
    "name": "ipython",
    "version": 3
   },
   "file_extension": ".py",
   "mimetype": "text/x-python",
   "name": "python",
   "nbconvert_exporter": "python",
   "pygments_lexer": "ipython3",
   "version": "3.4.4"
  }
 },
 "nbformat": 4,
 "nbformat_minor": 0
}
