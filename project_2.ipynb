{
 "cells": [
  {
   "cell_type": "markdown",
   "metadata": {},
   "source": [
    "# Project: Part 2"
   ]
  },
  {
   "cell_type": "markdown",
   "metadata": {},
   "source": [
    "Today we will continue this semester's project. To download last week's notebook, click [here](https://drive.google.com/open?id=0B3D_PdrFcBfRaG5zcXQyYW1QR1k)."
   ]
  },
  {
   "cell_type": "markdown",
   "metadata": {},
   "source": [
    "### Reference Bank\n",
    "\n",
    "Other links referenced today:\n",
    "* [538 - Political statistics](http://fivethirtyeight.com/)\n",
    "* [How to apply for Twitter API key](https://apps.twitter.com/)\n",
    "* [Twitter advanced search engine](https://twitter.com/search-advanced?lang=en)\n",
    "* [Tweepy documentation](http://tweepy.readthedocs.io/en/v3.5.0/getting_started.html#api)\n",
    "* [Twitter API documentation](https://dev.twitter.com/rest/reference)\n",
    "\n",
    "**Our Twitter key: Q8kC59z8t8T7CCtIErEGFzAce**"
   ]
  },
  {
   "cell_type": "markdown",
   "metadata": {},
   "source": [
    "Today:\n",
    "\n",
    "* Make an API call to gather ____\n",
    "* Review the format of the text, and make a plan to parse it\n",
    "* Organize it into a dictionary\n",
    "\n",
    "Weeks to come:\n",
    "\n",
    "* Review the data collected\n",
    "* Write the dictionary into a CSV file\n",
    "* Plot some significant information using matplotlib\n"
   ]
  },
  {
   "cell_type": "markdown",
   "metadata": {},
   "source": [
    "## Review"
   ]
  },
  {
   "cell_type": "markdown",
   "metadata": {},
   "source": [
    "**Review of function definitions**"
   ]
  },
  {
   "cell_type": "code",
   "execution_count": 3,
   "metadata": {
    "collapsed": false
   },
   "outputs": [
    {
     "data": {
      "text/plain": [
       "6"
      ]
     },
     "execution_count": 3,
     "metadata": {},
     "output_type": "execute_result"
    }
   ],
   "source": [
    "def function_name(function_parameter1, function_parameter2):\n",
    "    # Function body\n",
    "    return_value = function_parameter1 * function_parameter2\n",
    "    return return_value\n",
    "\n",
    "# After defining, run the function\n",
    "function_name(2, 3)"
   ]
  },
  {
   "cell_type": "markdown",
   "metadata": {},
   "source": [
    "**Review of loop structure**"
   ]
  },
  {
   "cell_type": "code",
   "execution_count": 8,
   "metadata": {
    "collapsed": false
   },
   "outputs": [
    {
     "name": "stdout",
     "output_type": "stream",
     "text": [
      "Sum of list is 6\n",
      "Incremented list is [2, 3, 4]\n",
      "dlrow olleH\n"
     ]
    }
   ],
   "source": [
    "# Iterable types include lists, strings and dictionaries\n",
    "iterable = [1, 2, 3]\n",
    "\n",
    "# Sum list items\n",
    "sum = 0\n",
    "for item in iterable:\n",
    "    # Loop body\n",
    "    sum += item\n",
    "print(\"Sum of list is \" + str(sum))\n",
    "\n",
    "# Increment list items\n",
    "for index in range(len(iterable)):\n",
    "    iterable[index] += 1\n",
    "print(\"Incremented list is \" + str(iterable))\n",
    "\n",
    "# Reverse a string\n",
    "string = \"\"\n",
    "for character in \"Hello world\":\n",
    "    string = character + string\n",
    "print(string)"
   ]
  },
  {
   "cell_type": "markdown",
   "metadata": {},
   "source": [
    "**Review of string manipulation**"
   ]
  },
  {
   "cell_type": "code",
   "execution_count": 10,
   "metadata": {
    "collapsed": false
   },
   "outputs": [
    {
     "data": {
      "text/plain": [
       "'bcd'"
      ]
     },
     "execution_count": 10,
     "metadata": {},
     "output_type": "execute_result"
    }
   ],
   "source": [
    "# Get middle characters of a string\n",
    "def return_middle(string):\n",
    "    return string[1:-1]\n",
    "return_middle(\"abcde\")\n",
    "\n",
    "# \n",
    "def "
   ]
  },
  {
   "cell_type": "markdown",
   "metadata": {},
   "source": [
    "## New String Methods"
   ]
  },
  {
   "cell_type": "markdown",
   "metadata": {},
   "source": [
    "We know how to do basic string indexing at this point, but there are many built-in Python methods that help us handle strings tactfully. Here are some important methods that will be useful as we parse text, with examples.\n",
    "\n",
    "String methods summary from [Google](https://developers.google.com/edu/python/strings) (where s is a string):\n",
    "\n",
    "* *s.lower(), s.upper()*: returns the lowercase or uppercase version of the string\n",
    "* *s.strip()*: returns a string with whitespace removed from the start and end\n",
    "* *s.isalpha()/s.isdigit()/s.isspace()...*: tests if all the string chars are in the various character classes\n",
    "* *s.startswith('other'), s.endswith('other')*: tests if the string starts or ends with the given other string\n",
    "* *s.find('other')*: searches for the given other string (not a regular expression) within s, and returns the first index where it begins or -1 if not found\n",
    "* *s.replace('old', 'new')*: returns a string where all occurrences of 'old' have been replaced by 'new'\n",
    "* *s.split('delim')*: returns a list of substrings separated by the given delimiter. The delimiter is not a regular expression, it's just text. 'aaa,bbb,ccc'.split(',') -> ['aaa', 'bbb', 'ccc']. As a convenient special case s.split() (with no arguments) splits on all whitespace chars.\n",
    "* *s.join(list)*: opposite of split(), joins the elements in the given list together using the string as the delimiter. e.g. '---'.join(['aaa', 'bbb', 'ccc']) -> aaa---bbb---ccc"
   ]
  },
  {
   "cell_type": "code",
   "execution_count": 21,
   "metadata": {
    "collapsed": false
   },
   "outputs": [
    {
     "data": {
      "text/plain": [
       "'Megan Elizabeth Carey'"
      ]
     },
     "execution_count": 21,
     "metadata": {},
     "output_type": "execute_result"
    }
   ],
   "source": [
    "# Lower/upper, split example\n",
    "def make_name(string):\n",
    "    # Split the string into separate words, with space as delimiter\n",
    "    words = string.split(' ')\n",
    "    # Make dummy string to be returned\n",
    "    to_return = \"\"\n",
    "    for word in words:\n",
    "        # Add the uppercase first letter of each word\n",
    "        to_return += word[0].upper()\n",
    "        # Add rest of word\n",
    "        to_return += word[1:]\n",
    "        # Add spaces between words\n",
    "        to_return += \" \"\n",
    "    # Return string, with last space omitted\n",
    "    return to_return[:-1]\n",
    "        \n",
    "make_name(\"megan elizabeth carey\")"
   ]
  },
  {
   "cell_type": "code",
   "execution_count": 30,
   "metadata": {
    "collapsed": false
   },
   "outputs": [
    {
     "name": "stdout",
     "output_type": "stream",
     "text": [
      "47\n",
      "63\n"
     ]
    }
   ],
   "source": [
    "# Strip example\n",
    "text = \"        nonsense at beginning and end should be trimmed        \"\n",
    "print(len(text.strip()))\n",
    "print(len(text))"
   ]
  },
  {
   "cell_type": "code",
   "execution_count": 29,
   "metadata": {
    "collapsed": false
   },
   "outputs": [
    {
     "name": "stdout",
     "output_type": "stream",
     "text": [
      "True\n",
      "True\n",
      "False\n"
     ]
    }
   ],
   "source": [
    "# Startswith/endswith example\n",
    "def check_start_or_end(string, substring):\n",
    "    if string.startswith(substring):\n",
    "        return True\n",
    "    elif string.endswith(substring):\n",
    "        return True\n",
    "    else:\n",
    "        return False\n",
    "    \n",
    "print(check_start_or_end(\"megan carey\", \"me\"))\n",
    "print(check_start_or_end(\"megan carey\", \"rey\"))\n",
    "print(check_start_or_end(\"megan carey\", \"hi\"))"
   ]
  },
  {
   "cell_type": "code",
   "execution_count": 40,
   "metadata": {
    "collapsed": false
   },
   "outputs": [
    {
     "name": "stdout",
     "output_type": "stream",
     "text": [
      "Hello there? How's it going!\n"
     ]
    }
   ],
   "source": [
    "# Replace example\n",
    "def find_and_swap(string1, string2, string3):\n",
    "    # Find the first index where the second input string occurs\n",
    "    first_end = string1.find(string2) + 1\n",
    "    # Make one substring up to that point\n",
    "    substring1 = string1[:first_end]\n",
    "    # Make anotehr substring after that point\n",
    "    substring2 = string1[first_end:]\n",
    "    # Replace the second input string with the third\n",
    "    substring1 = substring1.replace(string2, string3)\n",
    "    # Replace the third input string with the second\n",
    "    substring2 = substring2.replace(string3, string2)\n",
    "    # Concatenate the strings\n",
    "    return substring1 + substring2\n",
    "\n",
    "print(find_and_swap(\"Hello there! How's it going?\", \"!\", \"?\"))"
   ]
  },
  {
   "cell_type": "markdown",
   "metadata": {},
   "source": [
    "## Making an API Call"
   ]
  },
  {
   "cell_type": "markdown",
   "metadata": {},
   "source": [
    "Now we'll make an API call using Tweepy."
   ]
  },
  {
   "cell_type": "code",
   "execution_count": 41,
   "metadata": {
    "collapsed": true
   },
   "outputs": [],
   "source": [
    "## Call"
   ]
  },
  {
   "cell_type": "code",
   "execution_count": 42,
   "metadata": {
    "collapsed": true
   },
   "outputs": [],
   "source": [
    "## Parse according to methods"
   ]
  },
  {
   "cell_type": "code",
   "execution_count": null,
   "metadata": {
    "collapsed": true
   },
   "outputs": [],
   "source": []
  }
 ],
 "metadata": {
  "kernelspec": {
   "display_name": "Python 3",
   "language": "python",
   "name": "python3"
  },
  "language_info": {
   "codemirror_mode": {
    "name": "ipython",
    "version": 3
   },
   "file_extension": ".py",
   "mimetype": "text/x-python",
   "name": "python",
   "nbconvert_exporter": "python",
   "pygments_lexer": "ipython3",
   "version": "3.4.5"
  }
 },
 "nbformat": 4,
 "nbformat_minor": 0
}
