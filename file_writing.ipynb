{
 "cells": [
  {
   "cell_type": "markdown",
   "metadata": {},
   "source": [
    "# File Handling"
   ]
  },
  {
   "cell_type": "markdown",
   "metadata": {},
   "source": [
    "Today we will learn about how to read from and write to files on your computer using a Python script! Credit to Rochelle Terman"
   ]
  },
  {
   "cell_type": "code",
   "execution_count": null,
   "metadata": {
    "collapsed": true
   },
   "outputs": [],
   "source": [
    "## Import required libraries\n",
    "import tweepy\n",
    "import json"
   ]
  },
  {
   "cell_type": "markdown",
   "metadata": {},
   "source": [
    "### Reading from a file\n",
    "\n",
    "Reading a file requires three steps:\n",
    "\n",
    "1. Opening the file\n",
    "2. Reading the file\n",
    "3. Closing the file"
   ]
  },
  {
   "cell_type": "markdown",
   "metadata": {},
   "source": [
    "- An exclamation point `!` puts you in bash\n",
    "- The `touch` command creates a file. You use it by including an argument which is the name of the file you create."
   ]
  },
  {
   "cell_type": "code",
   "execution_count": null,
   "metadata": {
    "collapsed": true
   },
   "outputs": [],
   "source": [
    "!touch sample.txt"
   ]
  },
  {
   "cell_type": "code",
   "execution_count": null,
   "metadata": {
    "collapsed": false
   },
   "outputs": [],
   "source": [
    "my_file = open(\"sample.txt\", \"r\")\n",
    "text = my_file.read()\n",
    "my_file.close()\n",
    "\n",
    "print(\"--\" + text + \"--\")\n",
    "print(len(text))"
   ]
  },
  {
   "cell_type": "markdown",
   "metadata": {},
   "source": [
    "We see that when we create a new file using bash, it's empty. Let's try reading from a file with text in it -- for example, `example.txt`."
   ]
  },
  {
   "cell_type": "code",
   "execution_count": null,
   "metadata": {
    "collapsed": false
   },
   "outputs": [],
   "source": [
    "my_file = open(\"example.txt\", \"r\")\n",
    "text = my_file.read()\n",
    "my_file.close()\n",
    "\n",
    "print(\"--\" + text + \"--\")\n",
    "print(len(text))"
   ]
  },
  {
   "cell_type": "markdown",
   "metadata": {},
   "source": [
    "- However, use the `with open` syntax and this will automatically close files for you. \n",
    "- The `'r'` indicates that you are reading the file, as opposed to, say, writing to it."
   ]
  },
  {
   "cell_type": "code",
   "execution_count": null,
   "metadata": {
    "collapsed": false
   },
   "outputs": [],
   "source": [
    "# better code\n",
    "with open('example.txt', 'r') as my_file:\n",
    "    text = my_file.read()\n",
    "    \n",
    "print(\"--\" + text + \"--\")\n",
    "print(len(text))"
   ]
  },
  {
   "cell_type": "markdown",
   "metadata": {},
   "source": [
    "`with` will keep the file open as long as the program is still in the indented block, once outside, the file is no longer open, and you can't access the contents, only what you have saved to a variable."
   ]
  },
  {
   "cell_type": "markdown",
   "metadata": {},
   "source": [
    "### Reading a file as a list\n",
    "\n",
    "- Very often we want to read in a file line by line, storing those lines as a list.\n",
    "- To do that, we can use the `for line in my_file` syntax:"
   ]
  },
  {
   "cell_type": "code",
   "execution_count": null,
   "metadata": {
    "collapsed": false
   },
   "outputs": [],
   "source": [
    "stored = []\n",
    "with open('example.txt', 'r') as my_file:\n",
    "    for line in my_file:\n",
    "        stored.append(line)"
   ]
  },
  {
   "cell_type": "code",
   "execution_count": null,
   "metadata": {
    "collapsed": false
   },
   "outputs": [],
   "source": [
    "stored"
   ]
  },
  {
   "cell_type": "markdown",
   "metadata": {},
   "source": [
    "- We can use the `strip` [method](https://github.com/dlab-berkeley/python-intensive/blob/master/Glossary.md#method) to get rid of those line breaks at the end"
   ]
  },
  {
   "cell_type": "code",
   "execution_count": null,
   "metadata": {
    "collapsed": false
   },
   "outputs": [],
   "source": [
    "stored = []\n",
    "with open('example.txt', 'r') as my_file:\n",
    "    for line in my_file:\n",
    "        stored.append(line.strip())"
   ]
  },
  {
   "cell_type": "code",
   "execution_count": null,
   "metadata": {
    "collapsed": false
   },
   "outputs": [],
   "source": [
    "stored"
   ]
  },
  {
   "cell_type": "markdown",
   "metadata": {},
   "source": [
    "### Writing to a file\n",
    "\n",
    "We can use the `with open` syntax for writing files as well."
   ]
  },
  {
   "cell_type": "code",
   "execution_count": null,
   "metadata": {
    "collapsed": true
   },
   "outputs": [],
   "source": [
    "# this is okay...\n",
    "new_file = open(\"example2.txt\", \"w\")\n",
    "bees = ['bears', 'beets', 'Battlestar Galactica']\n",
    "for i in bees:\n",
    "    new_file.write(i + '\\n')\n",
    "new_file.close()"
   ]
  },
  {
   "cell_type": "code",
   "execution_count": null,
   "metadata": {
    "collapsed": true
   },
   "outputs": [],
   "source": [
    "# but this is better...\n",
    "bees = ['bears', 'beets', 'Battlestar Galactica']\n",
    "with open('example2.txt', 'w') as new_file:\n",
    "    for i in bees:\n",
    "        new_file.write(i + '\\n')"
   ]
  },
  {
   "cell_type": "code",
   "execution_count": null,
   "metadata": {
    "collapsed": false
   },
   "outputs": [],
   "source": [
    "!cat example2.txt"
   ]
  },
  {
   "cell_type": "code",
   "execution_count": null,
   "metadata": {
    "collapsed": true
   },
   "outputs": [],
   "source": [
    "# but this is better...\n",
    "bees = ['bears', 'beets', 'Battlestar Galactica']\n",
    "with open('example2.txt', 'a') as new_file:\n",
    "    for i in bees:\n",
    "        new_file.write(i + '\\n')"
   ]
  },
  {
   "cell_type": "code",
   "execution_count": null,
   "metadata": {
    "collapsed": false
   },
   "outputs": [],
   "source": [
    "!cat example2.txt"
   ]
  },
  {
   "cell_type": "markdown",
   "metadata": {},
   "source": [
    "### Using the CSV Module\n",
    "\n",
    "A common task in programming is reading a csv file. \n",
    "- In python, a common way to do that is to read a csv as a list of dictionaries. \n",
    "- For this, we use the `csv` module"
   ]
  },
  {
   "cell_type": "code",
   "execution_count": null,
   "metadata": {
    "collapsed": true
   },
   "outputs": [],
   "source": [
    "import csv"
   ]
  },
  {
   "cell_type": "code",
   "execution_count": null,
   "metadata": {
    "collapsed": false
   },
   "outputs": [],
   "source": [
    "# read csv and read into a list of dictionaries\n",
    "capitals = [] # make empty list\n",
    "with open('capitals.csv', 'r') as csvfile: # open file\n",
    "    reader = csv.DictReader(csvfile) # create a reader\n",
    "    for row in reader: # loop through rows\n",
    "        capitals.append(row) # append each row to the list"
   ]
  },
  {
   "cell_type": "code",
   "execution_count": null,
   "metadata": {
    "collapsed": false
   },
   "outputs": [],
   "source": [
    "capitals[:5]"
   ]
  },
  {
   "cell_type": "markdown",
   "metadata": {},
   "source": [
    "- Writing a list of dictionaries as a CSV is similar:"
   ]
  },
  {
   "cell_type": "code",
   "execution_count": null,
   "metadata": {
    "collapsed": false
   },
   "outputs": [],
   "source": [
    "print(len(capitals))\n",
    "\n",
    "# get the keys in each dictionary\n",
    "keys = capitals[1].keys()\n",
    "print(keys)\n",
    "keys = list(keys)\n",
    "print(keys)"
   ]
  },
  {
   "cell_type": "code",
   "execution_count": null,
   "metadata": {
    "collapsed": false
   },
   "outputs": [],
   "source": [
    "# write rows\n",
    "with open('capitals2.csv', 'w') as output_file:\n",
    "    dict_writer = csv.DictWriter(output_file, ['Country', 'Capital', 'Latitude', 'Longitude'])\n",
    "    dict_writer.writeheader()\n",
    "    dict_writer.writerows(capitals)"
   ]
  },
  {
   "cell_type": "markdown",
   "metadata": {},
   "source": [
    "### Challenge 1: Read in a list\n",
    "\n",
    "The file `counties.txt` has a column of counties in California. Read in the data into a list called `counties`."
   ]
  },
  {
   "cell_type": "code",
   "execution_count": null,
   "metadata": {
    "collapsed": true
   },
   "outputs": [],
   "source": []
  },
  {
   "cell_type": "markdown",
   "metadata": {},
   "source": [
    "### Challenge 2: Writing a CSV file\n",
    "\n",
    "Below is a list of dictionaries representing US states. Write this [object](https://github.com/dlab-berkeley/python-intensive/blob/master/Glossary.md#object) as a CSV file called `states.csv`"
   ]
  },
  {
   "cell_type": "code",
   "execution_count": null,
   "metadata": {
    "collapsed": true
   },
   "outputs": [],
   "source": [
    "states = [{'state': 'Ohio', 'population': 11.6, 'year in union': 1803, 'state bird': 'Northern cardinal', 'capital': 'Columbus'},\n",
    "          {'state': 'Michigan', 'population': 9.9, 'year in union': 1837, 'capital': 'Lansing'},\n",
    "          {'state': 'California', 'population': 39.1, 'year in union': 1850, 'state bird': 'California quail', 'capital': 'Sacramento'},\n",
    "          {'state': 'Florida', 'population': 20.2, 'year in union': 1834, 'capital': 'Tallahassee'},\n",
    "          {'state': 'Alabama', 'population': 4.9, 'year in union': 1819, 'capital': 'Montgomery'}]"
   ]
  },
  {
   "cell_type": "code",
   "execution_count": null,
   "metadata": {
    "collapsed": false
   },
   "outputs": [],
   "source": [
    "keys = []\n",
    "\n",
    "for state in states:\n",
    "    for key in state.keys():\n",
    "        if key not in keys:\n",
    "            keys.append(key)\n",
    "\n",
    "print(keys)"
   ]
  },
  {
   "cell_type": "markdown",
   "metadata": {},
   "source": [
    "###Challenge 3: Writing Twitter API data to a CSV"
   ]
  },
  {
   "cell_type": "code",
   "execution_count": null,
   "metadata": {
    "collapsed": true
   },
   "outputs": [],
   "source": [
    "## NOTE: Better to use your own keys and tokens!!\n",
    "## Our access key, mentioned above\n",
    "consumer_key = 'Q8kC59z8t8T7CCtIErEGFzAce'\n",
    "## Our signature, also given upon app creation\n",
    "consumer_secret = '24bbPpWfjjDKpp0DpIhsBj4q8tUhPQ3DoAf2UWFoN4NxIJ19Ja'\n",
    "## Our access token, generated upon request\n",
    "access_token = '719722984693448704-lGVe8IEmjzpd8RZrCBoYSMug5uoqUkP'\n",
    "## Our secret access token, also generated upon request\n",
    "access_token_secret = 'LrdtfdFSKc3gbRFiFNJ1wZXQNYEVlOobsEGffRECWpLNG'\n",
    "\n",
    "## Set of Tweepy authorization commands\n",
    "auth = tweepy.OAuthHandler(consumer_key, consumer_secret)\n",
    "auth.set_access_token(access_token, access_token_secret)\n",
    "api = tweepy.API(auth)"
   ]
  },
  {
   "cell_type": "code",
   "execution_count": null,
   "metadata": {
    "collapsed": true
   },
   "outputs": [],
   "source": [
    "# Search for tweets containing a positive attitude to 'hillary' or\n",
    "# 'clinton' since October 1st\n",
    "query1 = \"hillary%20OR%20clinton%20%3A%29\"\n",
    "\n",
    "# Search for tweets containing a positive attitude to 'donald' or\n",
    "# 'trump' since October 1st\n",
    "query2 = \"donald%20OR%20trump%20%3A%29\"\n",
    "\n",
    "results1 = api.search(q=query1)\n",
    "results2 = api.search(q=query2)"
   ]
  },
  {
   "cell_type": "markdown",
   "metadata": {},
   "source": [
    "*Remember*: in order to write a set of dictionaries to a CSV file, we will need a list of **all** keys found in any of the dictionaries, and a list of the dictionaries."
   ]
  },
  {
   "cell_type": "code",
   "execution_count": null,
   "metadata": {
    "collapsed": false
   },
   "outputs": [],
   "source": [
    "'''\n",
    "Things to remember:\n",
    "- results1 and results 2 are lists.\n",
    "- Each item in lists results1 and results2 is a Twitter status object, which\n",
    "  has a _json attribute.\n",
    "- This _json attribute can be accessed from the status using \"dot notation\"\n",
    "- This _json attribute can be used as a dictionary\n",
    "- We also need a list of keys *without duplicates* in order to write to a\n",
    "  CSV file.\n",
    "'''\n",
    "\n",
    "# Your variables here are:\n",
    "## \"keys1\": a list of keys for the first set of statuses\n",
    "## \"lst_1\": a list of _json dictionary objects\n",
    "keys1 = []\n",
    "lst_1 = []\n",
    "for i in range(len(results1)):\n",
    "    status = results1[i]\n",
    "    dictionary = status._json # access this using dot notation!\n",
    "    lst_1.append(dictionary) # function for adding to a list\n",
    "    for key in dictionary.keys():\n",
    "        if key not in keys1:\n",
    "            keys1.append(key)\n",
    "            \n",
    "print(keys1)\n",
    "keys1 = []\n",
    "\n",
    "for status in results1:\n",
    "    dictionary = status._json\n",
    "    lst_1.append(dictionary)\n",
    "    for key in dictionary.keys():\n",
    "        if key not in keys1:\n",
    "            keys1.append(key)\n",
    "\n",
    "print(keys1)\n",
    "\n",
    "# Your variables here are:\n",
    "## \"keys2\": a list of keys for the second set of statuses\n",
    "## \"lst_2\": a list of _json dictionary objects\n",
    "keys2 = []\n",
    "lst_2 = []\n",
    "for i in range(len(results2)):\n",
    "    status = results2[i]\n",
    "    dictionary = status._json\n",
    "    lst_2.append(dictionary)\n",
    "    for key in dictionary.keys():\n",
    "        if key not in keys2:\n",
    "            keys2.append(key)"
   ]
  },
  {
   "cell_type": "code",
   "execution_count": null,
   "metadata": {
    "collapsed": false
   },
   "outputs": [],
   "source": [
    "# write rows\n",
    "with open('query_results1.csv', 'w') as output_file:\n",
    "    dict_writer = csv.DictWriter(output_file, keys1)\n",
    "    dict_writer.writeheader()\n",
    "    dict_writer.writerows(lst_1)\n",
    "\n",
    "# write rows\n",
    "with open('query_results2.csv', 'w') as output_file:\n",
    "    dict_writer = csv.DictWriter(output_file, keys2)\n",
    "    dict_writer.writeheader()\n",
    "    dict_writer.writerows(lst_2)"
   ]
  },
  {
   "cell_type": "code",
   "execution_count": null,
   "metadata": {
    "collapsed": true
   },
   "outputs": [],
   "source": []
  }
 ],
 "metadata": {
  "kernelspec": {
   "display_name": "Python 3",
   "language": "python",
   "name": "python3"
  },
  "language_info": {
   "codemirror_mode": {
    "name": "ipython",
    "version": 3
   },
   "file_extension": ".py",
   "mimetype": "text/x-python",
   "name": "python",
   "nbconvert_exporter": "python",
   "pygments_lexer": "ipython3",
   "version": "3.4.5"
  }
 },
 "nbformat": 4,
 "nbformat_minor": 0
}
