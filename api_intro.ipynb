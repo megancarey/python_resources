{
 "cells": [
  {
   "cell_type": "markdown",
   "metadata": {},
   "source": [
    "# Introduction to APIs"
   ]
  },
  {
   "cell_type": "markdown",
   "metadata": {},
   "source": [
    "Today, we will begin our project dealing with data from [Healthdata.gov](http://www.healthdata.gov/content/data-api). We decided to use this API instead of the Center for Disease Control API, mostly because it's easier to use. We will be using it to gather data, and then in coming weeks we will learn how to parse through it and visualize it."
   ]
  },
  {
   "cell_type": "markdown",
   "metadata": {},
   "source": [
    "First off, we decided we should define some basic concepts. (Credit: Rochelle Terman)"
   ]
  },
  {
   "cell_type": "markdown",
   "metadata": {},
   "source": [
    "### What's an API?"
   ]
  },
  {
   "cell_type": "markdown",
   "metadata": {},
   "source": [
    "API stands for Application Programming Interface. Basically, an API is a set of software tools and protocols that can be used to build a computer application or query a remote database. \n",
    "\n",
    "It has become increasingly common for big companies or organizations to develop and release APIs for public use. Here is a list of commonly used APIs:\n",
    "\n",
    "* Twitter APIs, used for reading Twitter data or integrating Twitter into a website\n",
    "* NY Times API, used to query (search) articles and articles' data\n",
    "* Google+ API, used to integrate Google log in from other sites\n",
    "\n",
    "You have probably interacted with many APIs without knowing it."
   ]
  },
  {
   "cell_type": "markdown",
   "metadata": {},
   "source": [
    "### What's a RESTful API?"
   ]
  },
  {
   "cell_type": "markdown",
   "metadata": {},
   "source": [
    "REST stands for Representational State Transfer.\n",
    "\n",
    "According to Wikipedia, \"REST-compliant web services allow requesting systems to access and manipulate textual representations of web resources using a uniform and predefined set of stateless operations.\"\n",
    "\n",
    "Essentially, REST is a way of requesting data from a website or database. The Health data API is a REST API. REST-ful APIs are conveinent because we can use them to query databases using URLs."
   ]
  },
  {
   "cell_type": "markdown",
   "metadata": {},
   "source": [
    "### RESTful APIs in real life"
   ]
  },
  {
   "cell_type": "markdown",
   "metadata": {},
   "source": [
    "Consider a Google search. What's in the address bar?\n",
    "\n",
    "It looks like Google makes its query by taking the search terms, separating each of them with a “+”, and appending them to the link:\n",
    "\n",
    "https://www.google.com/#q=\n",
    "\n",
    "So that we have\n",
    "\n",
    "https://www.google.com/#q=search1+search2\n",
    "\n",
    "So can change our Google search by adding some terms to the URL.\n",
    "\n",
    "In dealing with any RESTful API, we will have the following work flow:\n",
    "\n",
    "* Make a GET request using a URL\n",
    "* Receive a response from the server\n",
    "* Parse and format the data in that response"
   ]
  },
  {
   "cell_type": "markdown",
   "metadata": {},
   "source": [
    "### Some terminology"
   ]
  },
  {
   "cell_type": "markdown",
   "metadata": {},
   "source": [
    "**URL: Uniform Resource Location**\n",
    "\n",
    "A URL is a string of characters that, when interpreted via the Hypertext Transfer Protocol (HTTP), points to a data resource, notably files written in Hypertext Markup Language (HTML) or a subset of a database. To specify what information you want to access from an API, you add parameters to the end of the URL.\n",
    "\n",
    "**HTTP (HyperText Transfer Protocol) Methods/Verbs:**\n",
    "\n",
    "The GET method requests a representation of a data resource corresponding to a particular URL. The process of executing the GET method is often referred to as a “GET request” and is the main method used for querying RESTful databases. This is what we'll be using to retrieve data from APIs. Most web APIs will give you a base URL to which you can add parameters to refine your query. If you see a URL with a question mark in the middle followed by a bunch of words with equals signs, those are GET parameters. \n",
    "\n",
    "For example, the base URL supplied by the Yelp API to search for businesses is:\n",
    "\n",
    "https://api.yelp.com/v2/search\n",
    "\n",
    "If you want to search for where you can get Thai food in Berkeley, the URL would be:\n",
    "\n",
    "https://api.yelp.com/v2/search?term=Thai&location=Berkeley\n",
    "\n",
    "Here, there are two parameters:\n",
    "* The search *term* with the value Thai\n",
    "* The *location* with the value Berkeley\n",
    "\n",
    "In addition to the GET method, HEAD, POST, PUT, DELETE are other common HTTP methods, though mostly never used for database querying, so we won't worry about them for now.\n",
    "\n",
    "**JSON: JavaScript Object Notation**\n",
    "\n",
    "JSON (JavaScript Object Notation) is a format for structuring and exchanging data. Its syntax is based on JavaScript, but you can still use it in any language, including Python. Its format is somewhat similar to that of a Python dictionary in that it consists of a collection of key-value pairs. Here's a link to the documentation for the Python library we'll be using: https://docs.python.org/2/library/json.html.\n",
    "\n",
    "Let's try doing a tutorial to see JSON in action: http://www.w3schools.com/js/js_json_intro.asp\n",
    "\n",
    "If you want to go more in-depth, here's the actual JSON website: http://www.json.org/"
   ]
  },
  {
   "cell_type": "markdown",
   "metadata": {},
   "source": [
    "## Last Semester's Project"
   ]
  },
  {
   "cell_type": "markdown",
   "metadata": {},
   "source": [
    "Last semester, we used the NY Times API, which is really well-developed. It was designed with the user in mind, so the data output is relatively easy to parse. Visit [this link](https://github.com/dlab-berkeley/python-berkeley/blob/gh-pages/03_lecture_code_kunal_040416.ipynb) to see the notebook that we wrote last semester."
   ]
  },
  {
   "cell_type": "markdown",
   "metadata": {},
   "source": [
    "## Our Project"
   ]
  },
  {
   "cell_type": "markdown",
   "metadata": {},
   "source": [
    "Here we go!\n",
    "\n",
    "Because there is such a massive amount of health data available, we decided to break our project down to using one specific dataset. We will be using health inspector data collected in the city of Chicago about restaurants."
   ]
  },
  {
   "cell_type": "code",
   "execution_count": null,
   "metadata": {
    "collapsed": true
   },
   "outputs": [],
   "source": [
    "# Import required libraries\n",
    "import requests\n",
    "from urllib.parse import quote_plus\n",
    "import json\n",
    "from __future__ import division\n",
    "import math"
   ]
  },
  {
   "cell_type": "code",
   "execution_count": null,
   "metadata": {
    "collapsed": false
   },
   "outputs": [],
   "source": [
    "# Make a GET request\n",
    "r = requests.get('https://data.cityofchicago.org/api/views/4ijn-s7e5/rows.json')"
   ]
  },
  {
   "cell_type": "code",
   "execution_count": null,
   "metadata": {
    "collapsed": true
   },
   "outputs": [],
   "source": [
    "data = json.loads(r.text)"
   ]
  },
  {
   "cell_type": "code",
   "execution_count": null,
   "metadata": {
    "collapsed": false
   },
   "outputs": [],
   "source": [
    "type(data)"
   ]
  },
  {
   "cell_type": "code",
   "execution_count": null,
   "metadata": {
    "collapsed": false
   },
   "outputs": [],
   "source": [
    "print(data.keys())"
   ]
  },
  {
   "cell_type": "code",
   "execution_count": null,
   "metadata": {
    "collapsed": false
   },
   "outputs": [],
   "source": [
    "print(data['meta'])"
   ]
  },
  {
   "cell_type": "code",
   "execution_count": null,
   "metadata": {
    "collapsed": true
   },
   "outputs": [],
   "source": [
    "print(data['data'])"
   ]
  },
  {
   "cell_type": "code",
   "execution_count": null,
   "metadata": {
    "collapsed": true
   },
   "outputs": [],
   "source": []
  }
 ],
 "metadata": {
  "kernelspec": {
   "display_name": "Python 3",
   "language": "python",
   "name": "python3"
  },
  "language_info": {
   "codemirror_mode": {
    "name": "ipython",
    "version": 3
   },
   "file_extension": ".py",
   "mimetype": "text/x-python",
   "name": "python",
   "nbconvert_exporter": "python",
   "pygments_lexer": "ipython3",
   "version": "3.4.4"
  }
 },
 "nbformat": 4,
 "nbformat_minor": 0
}
