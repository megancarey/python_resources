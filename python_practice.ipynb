{
 "cells": [
  {
   "cell_type": "markdown",
   "metadata": {},
   "source": [
    "# Python Practice"
   ]
  },
  {
   "cell_type": "markdown",
   "metadata": {},
   "source": [
    "Today we will be focused on getting some practice exercising the programming skills we've learned so far! But first, we do have a few concepts to go over. Here's an overview:\n",
    "* Basic math operations in Python\n",
    "* String manipulation in Python\n",
    "* Objects\n",
    "\n",
    "Once we've explained these final ideas, we will practice!"
   ]
  },
  {
   "cell_type": "markdown",
   "metadata": {},
   "source": [
    "## Math operations in Python"
   ]
  },
  {
   "cell_type": "markdown",
   "metadata": {},
   "source": [
    "In Python, often times we'll want to use math operations to manipulate our numerical data. As we've seen in previous meetings, we can use basic operators (e.g. +, -) and expect them to work as they do in the real world. \n",
    "\n",
    "For more complex math operations, like exponentials, it's a little less clear. How do we denote a superscript in Python?"
   ]
  },
  {
   "cell_type": "markdown",
   "metadata": {},
   "source": [
    "### Exponents"
   ]
  },
  {
   "cell_type": "markdown",
   "metadata": {},
   "source": [
    "If we want to denote an exponent in Python, we use two asterisks. On the left is the base, or the number we are trying to exponentiate. On the right of the asterisks, we put the number of times we want to exponentiate.\n",
    "\n",
    "If we are trying to square a number, we are raising that number to the power 2. So, the number on the right would be 2. Here's an example:"
   ]
  },
  {
   "cell_type": "code",
   "execution_count": 1,
   "metadata": {
    "collapsed": false
   },
   "outputs": [
    {
     "data": {
      "text/plain": [
       "25"
      ]
     },
     "execution_count": 1,
     "metadata": {},
     "output_type": "execute_result"
    }
   ],
   "source": [
    "def square(x):\n",
    "    return x ** 2\n",
    "\n",
    "x = 5\n",
    "square(5)"
   ]
  },
  {
   "cell_type": "markdown",
   "metadata": {},
   "source": [
    "### Mod"
   ]
  },
  {
   "cell_type": "markdown",
   "metadata": {},
   "source": [
    "In Python, we use the percent sign (%) to denote \"mod\", or the remainder after dividing two numbers. One example of where we would use mod is in the case where we are trying to determine if a number is even or odd. Here are some example input/output pairs:\n",
    "\n",
    "`3 % 2` => `1`\n",
    "\n",
    "`2 % 2` => `0`\n",
    "\n",
    "`4 % 2` => `0`\n",
    "\n",
    "`5 % 3` => `2`\n",
    "\n",
    "Here is an example of a program that uses mod:"
   ]
  },
  {
   "cell_type": "code",
   "execution_count": 11,
   "metadata": {
    "collapsed": false
   },
   "outputs": [
    {
     "data": {
      "text/plain": [
       "[1, 2, 3, 4, 5, 36, 7, 8, 9, 10, 121, 12, 13, 14, 15]"
      ]
     },
     "execution_count": 11,
     "metadata": {},
     "output_type": "execute_result"
    }
   ],
   "source": [
    "'''Square every 5th number in a list.\n",
    "    Please write your expected output of passing lst into\n",
    "    square_every_fifth below:\n",
    "    ***HERE***\n",
    "    \n",
    "    If the actual output does not match your expectation above,\n",
    "    how might you change the function code to do what you\n",
    "    expected?\n",
    "    \n",
    "    Can you think of any other ways to write this function?\n",
    "'''\n",
    "lst = [1, 2, 3, 4, 5, 6, 7, 8, 9, 10, 11, 12, 13, 14, 15]\n",
    "\n",
    "def square_every_fifth(lst):\n",
    "    for i in range(len(lst)):\n",
    "        if i % 5 == 0:\n",
    "            lst[i] = lst[i] ** 2\n",
    "    return lst\n",
    "\n",
    "square_every_fifth(lst)"
   ]
  },
  {
   "cell_type": "code",
   "execution_count": 12,
   "metadata": {
    "collapsed": false
   },
   "outputs": [
    {
     "name": "stdout",
     "output_type": "stream",
     "text": [
      "True\n",
      "False\n"
     ]
    }
   ],
   "source": [
    "'''If a number is divisible by 3, return true.'''\n",
    "\n",
    "def divisible_by_three(n):\n",
    "    if n % 3 == 0:\n",
    "        return True\n",
    "    else:\n",
    "        return False\n",
    "\n",
    "print(divisible_by_three(9))\n",
    "print(divisible_by_three(7))"
   ]
  },
  {
   "cell_type": "markdown",
   "metadata": {},
   "source": [
    "## String manipulation in Python"
   ]
  },
  {
   "cell_type": "markdown",
   "metadata": {},
   "source": [
    "String manipulation is a really useful tool in Python. It allows you to take in a string or even a list of strings and take meaningful information from them. This is especially useful in applications that involve handling text data."
   ]
  },
  {
   "cell_type": "markdown",
   "metadata": {},
   "source": [
    "### String indexing"
   ]
  },
  {
   "cell_type": "markdown",
   "metadata": {},
   "source": [
    "We are now familiar with indexing into a list. For example, if we want to get the first item from a list of items, we can use the first index to do that."
   ]
  },
  {
   "cell_type": "code",
   "execution_count": 14,
   "metadata": {
    "collapsed": false
   },
   "outputs": [
    {
     "name": "stdout",
     "output_type": "stream",
     "text": [
      "The first item in our list is 1\n"
     ]
    }
   ],
   "source": [
    "lst = [1, 2, 3, 4, 5]\n",
    "first = lst[0]\n",
    "print(\"The first item in our list is \" + str(first))"
   ]
  },
  {
   "cell_type": "markdown",
   "metadata": {},
   "source": [
    "As it turns out, we can use this same indexing strategy to pull characters out of a string. Here is an example:"
   ]
  },
  {
   "cell_type": "code",
   "execution_count": 16,
   "metadata": {
    "collapsed": false
   },
   "outputs": [
    {
     "name": "stdout",
     "output_type": "stream",
     "text": [
      "You were just greeted by Megan!\n"
     ]
    }
   ],
   "source": [
    "greeting = \"Hello, my name is Megan!\"\n",
    "name = greeting[18:]\n",
    "print(\"You were just greeted by \" + name)"
   ]
  },
  {
   "cell_type": "markdown",
   "metadata": {},
   "source": [
    "What happened here? We took a string, `greeting`, and we recognized that the last word in the string is a name. If we want to get just that name, we can count the index where the name begins, or count the number of characters up to that place in the string.\n",
    "\n",
    "Then, we index with the same `[]` notation we use to index in lists. Pretty cool!\n",
    "\n",
    "You might be wondering: what is the `:` in the index? Previously, we have only indexed into lists to get a single item. However, we can also get a range of items from a list by saying `lst[start:end]`. Here, the start index is *inclusive* and the end index is *exclusive*.\n",
    "\n",
    "If we use a colon with only a start or end, the default start value is 0, and the default end value is the end of the list or string. Here are some more examples to reaffirm this idea:"
   ]
  },
  {
   "cell_type": "code",
   "execution_count": 18,
   "metadata": {
    "collapsed": false
   },
   "outputs": [
    {
     "name": "stdout",
     "output_type": "stream",
     "text": [
      "[2, 3, 4]\n"
     ]
    }
   ],
   "source": [
    "lst = [1, 2, 3, 4, 5]\n",
    "middle = lst[1:4]\n",
    "print(middle)"
   ]
  },
  {
   "cell_type": "code",
   "execution_count": 21,
   "metadata": {
    "collapsed": false
   },
   "outputs": [
    {
     "name": "stdout",
     "output_type": "stream",
     "text": [
      "[2, 3, 4, 5]\n"
     ]
    }
   ],
   "source": [
    "all_but_first = lst[1:]\n",
    "print(all_but_first)"
   ]
  },
  {
   "cell_type": "code",
   "execution_count": 23,
   "metadata": {
    "collapsed": false
   },
   "outputs": [
    {
     "name": "stdout",
     "output_type": "stream",
     "text": [
      "What type of day was Sunday?: terrific\n",
      "What type of day was Monday?: terrible\n"
     ]
    }
   ],
   "source": [
    "sentence = \"It was a terrific day.\"\n",
    "sunday = sentence[9:17]\n",
    "print(\"What type of day was Sunday?: \" + sunday)\n",
    "\n",
    "sentence = \"It was a terrible day.\"\n",
    "monday = sentence[9:17]\n",
    "print(\"What type of day was Monday?: \" + monday)"
   ]
  },
  {
   "cell_type": "markdown",
   "metadata": {},
   "source": [
    "### String concatenation"
   ]
  },
  {
   "cell_type": "markdown",
   "metadata": {},
   "source": []
  },
  {
   "cell_type": "code",
   "execution_count": null,
   "metadata": {
    "collapsed": true
   },
   "outputs": [],
   "source": []
  }
 ],
 "metadata": {
  "kernelspec": {
   "display_name": "Python 3",
   "language": "python",
   "name": "python3"
  },
  "language_info": {
   "codemirror_mode": {
    "name": "ipython",
    "version": 3
   },
   "file_extension": ".py",
   "mimetype": "text/x-python",
   "name": "python",
   "nbconvert_exporter": "python",
   "pygments_lexer": "ipython3",
   "version": "3.4.4"
  }
 },
 "nbformat": 4,
 "nbformat_minor": 0
}
