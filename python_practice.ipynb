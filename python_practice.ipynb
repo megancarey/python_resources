{
 "cells": [
  {
   "cell_type": "markdown",
   "metadata": {},
   "source": [
    "# Python Practice"
   ]
  },
  {
   "cell_type": "markdown",
   "metadata": {},
   "source": [
    "Today we will be focused on getting some practice exercising the programming skills we've learned so far! But first, we do have a few concepts to go over. Here's an overview:\n",
    "* Basic math operations in Python\n",
    "* String manipulation in Python\n",
    "* Objects\n",
    "\n",
    "Once we've explained these final ideas, we will practice!"
   ]
  },
  {
   "cell_type": "markdown",
   "metadata": {},
   "source": [
    "## Math operations in Python"
   ]
  },
  {
   "cell_type": "markdown",
   "metadata": {},
   "source": [
    "In Python, often times we'll want to use math operations to manipulate our numerical data. As we've seen in previous meetings, we can use basic operators (e.g. +, -) and expect them to work as they do in the real world. \n",
    "\n",
    "For more complex math operations, like exponentials, it's a little less clear. How do we denote a superscript in Python?"
   ]
  },
  {
   "cell_type": "markdown",
   "metadata": {},
   "source": [
    "### Exponents"
   ]
  },
  {
   "cell_type": "markdown",
   "metadata": {},
   "source": [
    "If we want to denote an exponent in Python, we use two asterisks. On the left is the base, or the number we are trying to exponentiate. On the right of the asterisks, we put the number of times we want to exponentiate.\n",
    "\n",
    "If we are trying to square a number, we are raising that number to the power 2. So, the number on the right would be 2. Here's an example:"
   ]
  },
  {
   "cell_type": "code",
   "execution_count": null,
   "metadata": {
    "collapsed": false
   },
   "outputs": [],
   "source": [
    "def square(x):\n",
    "    return x ** 2\n",
    "\n",
    "x = 5\n",
    "square(5)"
   ]
  },
  {
   "cell_type": "markdown",
   "metadata": {},
   "source": [
    "### Mod"
   ]
  },
  {
   "cell_type": "markdown",
   "metadata": {},
   "source": [
    "In Python, we use the percent sign (%) to denote \"mod\", or the remainder after dividing two numbers. One example of where we would use mod is in the case where we are trying to determine if a number is even or odd. Here are some example input/output pairs:\n",
    "\n",
    "`3 % 2` => `1`\n",
    "\n",
    "`2 % 2` => `0`\n",
    "\n",
    "`4 % 2` => `0`\n",
    "\n",
    "`5 % 3` => `2`\n",
    "\n",
    "Here is an example of a program that uses mod:"
   ]
  },
  {
   "cell_type": "code",
   "execution_count": null,
   "metadata": {
    "collapsed": false
   },
   "outputs": [],
   "source": [
    "'''Square every 5th number in a list.\n",
    "    Please write your expected output of passing lst into\n",
    "    square_every_fifth below:\n",
    "    ***HERE***\n",
    "    \n",
    "    If the actual output does not match your expectation above,\n",
    "    how might you change the function code to do what you\n",
    "    expected?\n",
    "    \n",
    "    Can you think of any other ways to write this function?\n",
    "'''\n",
    "lst = [1, 2, 3, 4, 5, 6, 7, 8, 9, 10, 11, 12, 13, 14, 15]\n",
    "\n",
    "def square_every_fifth(lst):\n",
    "    for i in range(len(lst)):\n",
    "        if i % 5 == 0:\n",
    "            lst[i] = lst[i] ** 2\n",
    "    return lst\n",
    "\n",
    "square_every_fifth(lst)"
   ]
  },
  {
   "cell_type": "code",
   "execution_count": null,
   "metadata": {
    "collapsed": false
   },
   "outputs": [],
   "source": [
    "'''If a number is divisible by 3, return true.'''\n",
    "\n",
    "def divisible_by_three(n):\n",
    "    if n % 3 == 0:\n",
    "        return True\n",
    "    else:\n",
    "        return False\n",
    "\n",
    "print(divisible_by_three(9))\n",
    "print(divisible_by_three(7))"
   ]
  },
  {
   "cell_type": "markdown",
   "metadata": {},
   "source": [
    "## String manipulation in Python"
   ]
  },
  {
   "cell_type": "markdown",
   "metadata": {},
   "source": [
    "String manipulation is a really useful tool in Python. It allows you to take in a string or even a list of strings and take meaningful information from them. This is especially useful in applications that involve handling text data."
   ]
  },
  {
   "cell_type": "markdown",
   "metadata": {},
   "source": [
    "### String concatenation"
   ]
  },
  {
   "cell_type": "markdown",
   "metadata": {},
   "source": [
    "We will see in both portions of this section that strings can often be manipulated in the same way as lists, so we will alternate between list examples and string examples. One important idea in manipulating both strings and lists is the idea of *concatenation*.\n",
    "\n",
    "You may have noticed that in past code examples, in order to append one string onto another, we've used the `+` operator. It is very intuitive, so it hasn't really raised questions. We want to talk about it here to confirm your suspicions.\n",
    "\n",
    "With both strings and lists, if we want to combine multiple to form a longer string or a longer list, we use the `+` operator. This operation is called \"concatenating\" strings or lists.\n",
    "\n",
    "Here is an example of where this idea might come in handy:"
   ]
  },
  {
   "cell_type": "code",
   "execution_count": null,
   "metadata": {
    "collapsed": false
   },
   "outputs": [],
   "source": [
    "one_through_five = [1, 2, 3, 4, 5]\n",
    "six_through_ten = [6, 7, 8, 9, 10]\n",
    "\n",
    "## Print each list\n",
    "print(one_through_five)\n",
    "print(six_through_ten)\n",
    "\n",
    "## Next, print the concatenation of the lists\n",
    "print(one_through_five + six_through_ten)"
   ]
  },
  {
   "cell_type": "code",
   "execution_count": null,
   "metadata": {
    "collapsed": false
   },
   "outputs": [],
   "source": [
    "first_name = \"Megan\"\n",
    "last_name = \"Carey\"\n",
    "\n",
    "print(\"My full name is \" + first_name + \" \" + last_name)"
   ]
  },
  {
   "cell_type": "markdown",
   "metadata": {},
   "source": [
    "Concatenation is pretty trivial, but it is often useful in practical applications of programming. If we get search through a data set and come up with multiple strings of related data, or even if we just want to print an explanation for a string of data and attach it to the string, we will need to be able to concatenate. We will see more applications of concatenation in the following section."
   ]
  },
  {
   "cell_type": "markdown",
   "metadata": {},
   "source": [
    "### String indexing"
   ]
  },
  {
   "cell_type": "markdown",
   "metadata": {},
   "source": [
    "We are now familiar with indexing into a list. For example, if we want to get the first item from a list of items, we can use the first index to do that."
   ]
  },
  {
   "cell_type": "code",
   "execution_count": null,
   "metadata": {
    "collapsed": false
   },
   "outputs": [],
   "source": [
    "lst = [1, 2, 3, 4, 5]\n",
    "first = lst[0]\n",
    "print(\"The first item in our list is \" + str(first))"
   ]
  },
  {
   "cell_type": "markdown",
   "metadata": {},
   "source": [
    "As it turns out, we can use this same indexing strategy to pull characters out of a string. Here is an example:"
   ]
  },
  {
   "cell_type": "code",
   "execution_count": null,
   "metadata": {
    "collapsed": false
   },
   "outputs": [],
   "source": [
    "name = \"Megan\"\n",
    "first = name[0]\n",
    "print(\"My name starts with the letter \" + first)"
   ]
  },
  {
   "cell_type": "markdown",
   "metadata": {},
   "source": [
    "What happened here? We took a string, `name`, and we used our list indexing from before to retrieve the first letter of the string. Pretty cool!\n",
    "\n",
    "Importantly, we can also get a *range* of characters from a string, or a range of items from a list, using a similar notation. In order to get a range of characters from a list or string, we will use the following notation: `lst[start:end]`. Here, the start index is *inclusive* and the end index is *exclusive*. This means that we would put the exact index for the first character we want, and then the index + 1 to get the last character we want.\n",
    "\n",
    "Here are some examples to demonstrate this idea:"
   ]
  },
  {
   "cell_type": "code",
   "execution_count": null,
   "metadata": {
    "collapsed": false
   },
   "outputs": [],
   "source": [
    "greeting = \"Hello, my name is Megan!\"\n",
    "name = greeting[18:23]\n",
    "print(\"You were just greeted by \" + name)"
   ]
  },
  {
   "cell_type": "code",
   "execution_count": null,
   "metadata": {
    "collapsed": false
   },
   "outputs": [],
   "source": [
    "lst = [1, 2, 3, 4, 5]\n",
    "middle = lst[1:4]\n",
    "print(middle)"
   ]
  },
  {
   "cell_type": "markdown",
   "metadata": {},
   "source": [
    "If we use a colon without a value for start or end, the default start value is 0, and the default end value is the end of the list or string. Here are some more examples to reaffirm this idea:"
   ]
  },
  {
   "cell_type": "code",
   "execution_count": null,
   "metadata": {
    "collapsed": false
   },
   "outputs": [],
   "source": [
    "name = \"Megan Carey\"\n",
    "first_name = name[:5]\n",
    "last_name = name[6:]\n",
    "print(\"My first name is \" + first_name)\n",
    "print(\"My last name is \" + last_name)"
   ]
  },
  {
   "cell_type": "code",
   "execution_count": null,
   "metadata": {
    "collapsed": false
   },
   "outputs": [],
   "source": [
    "all_but_first = lst[1:]\n",
    "print(all_but_first)"
   ]
  },
  {
   "cell_type": "code",
   "execution_count": null,
   "metadata": {
    "collapsed": false
   },
   "outputs": [],
   "source": [
    "sentence = \"It was a terrific day.\"\n",
    "sunday = sentence[9:17]\n",
    "print(\"What type of day was Sunday?: \" + sunday)\n",
    "\n",
    "sentence = \"It was a terrible day.\"\n",
    "monday = sentence[9:17]\n",
    "print(\"What type of day was Monday?: \" + monday)"
   ]
  },
  {
   "cell_type": "markdown",
   "metadata": {},
   "source": [
    "That's all for today on string operations. Questions?"
   ]
  },
  {
   "cell_type": "markdown",
   "metadata": {},
   "source": [
    "## Objects"
   ]
  },
  {
   "cell_type": "markdown",
   "metadata": {},
   "source": [
    "*Objects* are a fundamental part of Python. They are groupings of data (of any kind or amount) that serve to structure your code. Everything in Python is an object-- including strings, lists, etc. Objects can have *attributes*, which are variables that describe and belong to a particular object. They can also have functions defined within them, which are called *methods*. To access an object's attributes or methods, you use the dot operator, which is just the object's name  followed by a period and the attribute or method you want to access. For example, you can use the `append` method of a `List` object to add an item to the end of the list:"
   ]
  },
  {
   "cell_type": "code",
   "execution_count": 1,
   "metadata": {
    "collapsed": false
   },
   "outputs": [
    {
     "name": "stdout",
     "output_type": "stream",
     "text": [
      "The list after appending 5: [1, 2, 3, 4, 5]\n"
     ]
    }
   ],
   "source": [
    "numbers = [1, 2, 3, 4]\n",
    "\n",
    "#'numbers' is the name of the List object, and 'append' is a method used by the List object\n",
    "numbers.append(5)\n",
    "\n",
    "print(\"The list after appending 5: \" + str(numbers))"
   ]
  },
  {
   "cell_type": "markdown",
   "metadata": {},
   "source": [
    "You can also define your own objects with classes. A *class* is like a blueprint used to create objects-- you can create and manipulate multiple objects, but you only have one class definition for each type of object. An object that you have already created is called an *instance* of its class. For example, `[1, 2, 3, 4, 5]` is an instance of class `List`, and `\"python\"` is an instance of class `String`. Below is an example of a class called `BankAccount`, which defines how a `BankAccount` should behave:"
   ]
  },
  {
   "cell_type": "code",
   "execution_count": 3,
   "metadata": {
    "collapsed": false
   },
   "outputs": [
    {
     "name": "stdout",
     "output_type": "stream",
     "text": [
      "Your current balance is: 400\n",
      "Cannot withdraw- insufficient funds. Your current balance is: 400\n"
     ]
    }
   ],
   "source": [
    "#Defining the BankAccount class\n",
    "class BankAccount(object):\n",
    "    \n",
    "    #The __init__() method defines what an object should do as soon as you create it.\n",
    "    #Here, the object sets its attribute 'balance' to 'starter_balance', which is an\n",
    "    #argument you pass in when creating the object.\n",
    "    #'self' is how the object refers to itself. Here, it's used to set its 'balance'\n",
    "    #to 'starter_balance'.\n",
    "    def __init__(self, starter_balance):\n",
    "        self.balance = starter_balance\n",
    "    \n",
    "    #This method adds 'amount' to the object's 'balance' attribute. Notice\n",
    "    #that 'self' needs to be an arugment whenever you define a method.\n",
    "    def deposit(self, amount):\n",
    "        self.balance += amount\n",
    "       \n",
    "    #This method subtracts 'amount' from 'self.balance', warning\n",
    "    #the user if the balance would go below zero.\n",
    "    def withdraw(self, amount):\n",
    "        if self.balance >= amount:\n",
    "            self.balance -= amount\n",
    "        else:\n",
    "            print('Cannot withdraw- insufficient funds. Your current balance is: ' + str(self.balance))\n",
    "        \n",
    "    #This method displays the account's current balance.\n",
    "    def statement(self):\n",
    "        print('Your current balance is: ' + str(self.balance))\n",
    "    \n",
    "    \n",
    "#Creating instances of the BankAccount class\n",
    "#Here, we create a BankAccount object named 'my_account1'.\n",
    "#The starter balance is $300.\n",
    "my_account1 = BankAccount(300)\n",
    "\n",
    "#Now we deposit $100. We use a dot operator to access the 'deposit'\n",
    "#method of the object, and pass in 100 as the 'amount' argument.\n",
    "#Notice that we don't pass in an argument for 'self'-- this is\n",
    "#because 'self' is implicit when using a dot operator.\n",
    "my_account1.deposit(100)\n",
    "\n",
    "#Checking the balance.\n",
    "my_account1.statement()\n",
    "\n",
    "#Try to withdraw $500, but there's not enough in the account for that.\n",
    "my_account1.withdraw(500)"
   ]
  },
  {
   "cell_type": "code",
   "execution_count": 4,
   "metadata": {
    "collapsed": false
   },
   "outputs": [
    {
     "name": "stdout",
     "output_type": "stream",
     "text": [
      "Balance of my_account 1:\n",
      "Your current balance is: 400\n",
      "Balance of my_account 2:\n",
      "Your current balance is: 100\n"
     ]
    }
   ],
   "source": [
    "#Now we create a new BankAccount object, 'my_account2'. This object and\n",
    "#its stored data is separate from that of 'my_account1'.\n",
    "my_account2 = BankAccount(100)\n",
    "\n",
    "#The balances of the two accounts are different.\n",
    "print(\"Balance of my_account 1:\")\n",
    "my_account1.statement()\n",
    "print(\"Balance of my_account 2:\")\n",
    "my_account2.statement()"
   ]
  },
  {
   "cell_type": "markdown",
   "metadata": {},
   "source": [
    "## Code Challenges!"
   ]
  },
  {
   "cell_type": "markdown",
   "metadata": {},
   "source": [
    "Finally! We're at the fun part of the notebook. Here are a series of code challenges that we would like you all to complete in pairs."
   ]
  },
  {
   "cell_type": "code",
   "execution_count": null,
   "metadata": {
    "collapsed": true
   },
   "outputs": [],
   "source": []
  }
 ],
 "metadata": {
  "kernelspec": {
   "display_name": "Python 3",
   "language": "python",
   "name": "python3"
  },
  "language_info": {
   "codemirror_mode": {
    "name": "ipython",
    "version": 3
   },
   "file_extension": ".py",
   "mimetype": "text/x-python",
   "name": "python",
   "nbconvert_exporter": "python",
   "pygments_lexer": "ipython3",
   "version": "3.4.4"
  }
 },
 "nbformat": 4,
 "nbformat_minor": 0
}
