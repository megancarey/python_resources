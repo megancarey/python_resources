{
 "cells": [
  {
   "cell_type": "markdown",
   "metadata": {},
   "source": [
    "# Project: Part 3"
   ]
  },
  {
   "cell_type": "markdown",
   "metadata": {},
   "source": [
    "Today we will continue this semester's project. To download last week's notebook, click [here](https://drive.google.com/open?id=0B3D_PdrFcBfRQjBfUGZaMFF2Mlk)."
   ]
  },
  {
   "cell_type": "markdown",
   "metadata": {},
   "source": [
    "### Reference Bank\n",
    "\n",
    "Other links referenced today:\n",
    "* [538 - Political statistics](http://fivethirtyeight.com/)\n",
    "* [How to apply for Twitter API key](https://apps.twitter.com/)\n",
    "* [Twitter advanced search engine](https://twitter.com/search-advanced?lang=en)\n",
    "* [Tweepy documentation](http://tweepy.readthedocs.io/en/v3.5.0/getting_started.html#api)\n",
    "* [Twitter API documentation](https://dev.twitter.com/rest/reference)\n",
    "\n",
    "**Our Twitter key: Q8kC59z8t8T7CCtIErEGFzAce**"
   ]
  },
  {
   "cell_type": "code",
   "execution_count": null,
   "metadata": {
    "collapsed": true
   },
   "outputs": [],
   "source": [
    "## Import required libraries\n",
    "import tweepy\n",
    "import json"
   ]
  },
  {
   "cell_type": "code",
   "execution_count": null,
   "metadata": {
    "collapsed": false
   },
   "outputs": [],
   "source": [
    "## NOTE: Better to use your own keys and tokens!!\n",
    "## Our access key, mentioned above\n",
    "consumer_key = 'Q8kC59z8t8T7CCtIErEGFzAce'\n",
    "## Our signature, also given upon app creation\n",
    "consumer_secret = '24bbPpWfjjDKpp0DpIhsBj4q8tUhPQ3DoAf2UWFoN4NxIJ19Ja'\n",
    "## Our access token, generated upon request\n",
    "access_token = '719722984693448704-lGVe8IEmjzpd8RZrCBoYSMug5uoqUkP'\n",
    "## Our secret access token, also generated upon request\n",
    "access_token_secret = 'LrdtfdFSKc3gbRFiFNJ1wZXQNYEVlOobsEGffRECWpLNG'\n",
    "\n",
    "## Set of Tweepy authorization commands\n",
    "auth = tweepy.OAuthHandler(consumer_key, consumer_secret)\n",
    "auth.set_access_token(access_token, access_token_secret)\n",
    "api = tweepy.API(auth)"
   ]
  },
  {
   "cell_type": "markdown",
   "metadata": {},
   "source": [
    "Now let's create a search query. The Tweepy API object has a *search* method that takes in a parameters *q*, which is our search query. The search query is a string that specifies what kind of tweets we want to search for. The documentation for query operators, which define what you'd like to search for, can be found [here]( https://dev.twitter.com/rest/public/search). The Twitter [advanced search engine](https://twitter.com/search-advanced?lang=en) also provides an easy way to build complex queries.\n",
    "\n",
    "For example, if we want to search for tweets about Hillary with the hashtag \"Imwithher\":"
   ]
  },
  {
   "cell_type": "code",
   "execution_count": null,
   "metadata": {
    "collapsed": false
   },
   "outputs": [],
   "source": [
    "# We first need to create our search query string, using either the query operator documentation, \n",
    "# or the Twitter advanced search enginer:\n",
    "query = \"%20hillary%23imwithher\"\n",
    "\n",
    "# We now use the api object's search method to find the tweets that match the query:\n",
    "results = api.search(query)\n",
    "\n",
    "# Now, let's see the results. The results will be a list of SearchResult objects. Let's look at the first result in the list:\n",
    "print(results[0])"
   ]
  },
  {
   "cell_type": "markdown",
   "metadata": {},
   "source": [
    "That's a lot of text. Let's convert the first results to JSON (which in Python, acts as a dictionary) and use [JSON Pretty Print](http://jsonprettyprint.com/) to better visualize the results:"
   ]
  },
  {
   "cell_type": "code",
   "execution_count": null,
   "metadata": {
    "collapsed": false
   },
   "outputs": [],
   "source": [
    "# Let's convert the first result to JSON:\n",
    "status = results[0]\n",
    "# This here is the data as a dictionary:\n",
    "dictionary = status._json\n",
    "# And this is the data as a JSON string.\n",
    "json_str = json.dumps(status._json)\n",
    "# If you print them, the look about the same, but are slightly different.\n",
    "# To actually access the data, we'd need to use the data in the dictionary. But if we only want\n",
    "# to more clearly visualize how the data is structured, we can used JSON Pretty Print. To use it,\n",
    "# we have to use the JSON string. Try pasting the JSON string below into Pretty Print:\n",
    "print(json_str)"
   ]
  },
  {
   "cell_type": "markdown",
   "metadata": {
    "collapsed": true
   },
   "source": [
    "### Analyzing and visualizing data"
   ]
  },
  {
   "cell_type": "markdown",
   "metadata": {},
   "source": [
    "Now we'll explore data from the tweets using two Python libraries that are commonly used in data analysis, NumPy and Matplotlib."
   ]
  },
  {
   "cell_type": "code",
   "execution_count": null,
   "metadata": {
    "collapsed": true
   },
   "outputs": [],
   "source": [
    "%matplotlib inline\n",
    "import matplotlib\n",
    "import numpy as np\n",
    "import matplotlib.pyplot as plt"
   ]
  },
  {
   "cell_type": "markdown",
   "metadata": {},
   "source": [
    "**NumPy**\n",
    "\n",
    "NumPy is a scientific computing library that provides functions to make it easy to perform computations on data without worrying about the underlying algorithm (think matrix multiplication, list sorting, polynomial fitting, etc.). It's based around \"ndarray\" objects (*n*-dimensional arrays) that are very similar to the Python lists we're already familiar with. The NumPy documentation, which can be found [here](https://docs.scipy.org/doc/numpy-1.11.0/reference/), provides a good explanation of its capabilites."
   ]
  },
  {
   "cell_type": "markdown",
   "metadata": {},
   "source": [
    "Let's see some basic examples of what NumPy can do:"
   ]
  },
  {
   "cell_type": "code",
   "execution_count": null,
   "metadata": {
    "collapsed": false
   },
   "outputs": [],
   "source": [
    "# Create a Python list\n",
    "lst = [1, 2, 3, 4, 5, 6, 7, 8, 9, 10]\n",
    "\n",
    "# Create a NumPy array from that list\n",
    "array = np.array(lst)\n",
    "\n",
    "# Let's say we want to add 5 to each number in the list, multiply each number by 10, and then\n",
    "# find the sum of all numbers in the list. Using only Python, it would look something like\n",
    "# this:\n",
    "new_lst = []\n",
    "for i in range(len(lst)):\n",
    "    new_lst.append((lst[i] + 5) * 10)\n",
    "lst_sum = sum(new_lst)\n",
    "print(\"lst_sum: \" + str(lst_sum))\n",
    "\n",
    "# With NumPy, it would be:\n",
    "array_sum = np.sum((array + 5) * 10)\n",
    "print(\"array_sum: \" + str(array_sum))\n",
    "\n",
    "# Using the same list and array, let's find the numbers in the list that are either even or\n",
    "# greater than 5.\n",
    "\n",
    "# Python only code:\n",
    "new_lst = []\n",
    "for num in lst:\n",
    "    if num % 2 == 0 or num > 5:\n",
    "        new_lst.append(num)\n",
    "print(\"new_lst: \" + str(new_lst))\n",
    "        \n",
    "# NumPy code:\n",
    "boolean_array = (array > 5) | (array % 2 == 0)\n",
    "new_array = array[boolean_array]\n",
    "print(\"new_array: \" + str(new_array))\n",
    "\n",
    "# As you can see, we get the same result with NumPy using fewer and less complicated lines of\n",
    "# code. This is a really basic example, but the advantage of using NumPy becomes even more\n",
    "# clear with more complicated calculations."
   ]
  },
  {
   "cell_type": "markdown",
   "metadata": {},
   "source": [
    "**Matplotlib**\n",
    "\n",
    "Matplotlib is another Python library that makes is easy to visualize data. You can create almost any kind of plot with Matplotlib: line graphs, box plots, heatmaps, 3D scatter plots, histograms, etc. The documentation, which you can find [here](http://matplotlib.org/contents.html) is also pretty good.\n",
    "\n",
    "Matplotlib and NumPy are often used together. They don't have to be, but they do complement each other well."
   ]
  },
  {
   "cell_type": "markdown",
   "metadata": {},
   "source": [
    "Here are a few examples:"
   ]
  },
  {
   "cell_type": "code",
   "execution_count": null,
   "metadata": {
    "collapsed": false
   },
   "outputs": [],
   "source": [
    "# Here's some fake data:\n",
    "x = np.array([1, 2, 3, 4, 5, 6, 7, 8, 9, 10])\n",
    "y = np.array([2, 5, 3, 6, 5, 8, 7, 7, 8, 9])\n",
    "\n",
    "# Let's make a scatter plot. Matplotlib will create the figure, you just have to give it data,\n",
    "# and then specify additional parameters if you'd like.\n",
    "# Note that all you really need here is \"plt.plot(x, y)\". \n",
    "# The other parameters just change the appearance of the plot.\n",
    "plt.plot(x, y, \"o\", color='red')\n",
    "plt.title(\"Scatter plot\")\n",
    "plt.xlabel(\"X axis\")\n",
    "plt.ylabel(\"Y axis\")"
   ]
  },
  {
   "cell_type": "code",
   "execution_count": null,
   "metadata": {
    "collapsed": false
   },
   "outputs": [],
   "source": [
    "# A bar graph, with the same data\n",
    "plt.bar(x, y)\n",
    "plt.title(\"Bar graph\")\n",
    "plt.xlabel(\"X values\")\n",
    "plt.ylabel(\"Y values\")"
   ]
  },
  {
   "cell_type": "code",
   "execution_count": null,
   "metadata": {
    "collapsed": false
   },
   "outputs": [],
   "source": [
    "# Let's make it 3D!\n",
    "# We first need to import an add-on library for 3D graphing:\n",
    "from mpl_toolkits.mplot3d import Axes3D\n",
    "\n",
    "# Make data for the z axis:\n",
    "z = np.array([1, 5, 2, 7, 4, 6, 7, 3, 9, 9])\n",
    "fig = plt.figure()\n",
    "ax = fig.add_subplot(111, projection='3d')\n",
    "ax.scatter(x, y, z, color='green')\n",
    "plt.title(\"3D graph\")"
   ]
  },
  {
   "cell_type": "markdown",
   "metadata": {},
   "source": [
    "### Twitter Data Analysis"
   ]
  },
  {
   "cell_type": "markdown",
   "metadata": {},
   "source": [
    "Now we'll explore some of the data we get from the Twitter API using NumPy and Matplotlib. Let's look at the difference in attitudes to the former presidential candidats by location in the US. First, we need to construct a query. An easy way to do so is to use Twitter's [advanced search engine](https://twitter.com/search-advanced?lang=en)."
   ]
  },
  {
   "cell_type": "code",
   "execution_count": null,
   "metadata": {
    "collapsed": false
   },
   "outputs": [],
   "source": [
    "# Search for tweets containing a positive attitude to 'hillary' or 'clinton' since October 1st\n",
    "query1 = \"hillary%20OR%20clinton%20%3A%29\"\n",
    "\n",
    "# Search for tweets containing a positive attitude to 'donald' or 'trump' since October 1st\n",
    "query2 = \"donald%20OR%20trump%20%3A%29\"\n",
    "\n",
    "results1 = api.search(q=query1)\n",
    "results2 = api.search(q=query2)\n",
    "\n"
   ]
  },
  {
   "cell_type": "code",
   "execution_count": null,
   "metadata": {
    "collapsed": false
   },
   "outputs": [],
   "source": [
    "print(results1)"
   ]
  },
  {
   "cell_type": "markdown",
   "metadata": {},
   "source": [
    "Remember from last time that each status has a `_json` attribute that contains a portion of data similar to a Python dictionary. We will be analyzing these sub-dictionaries for data.\n",
    "\n",
    "In the next block of code, we will want to put the `_json` dictionary from the status into a list that corresponds with the query."
   ]
  },
  {
   "cell_type": "code",
   "execution_count": null,
   "metadata": {
    "collapsed": true
   },
   "outputs": [],
   "source": [
    "# Get the JSON portion from each result\n",
    "# Remember: JSON is like a Python dictionary. Store these dictionaries to lists.\n",
    "lst_1 = []\n",
    "for i in range(len(results1)):\n",
    "    status = results1[i]\n",
    "    dictionary = status._json\n",
    "    lst_1.append(dictionary)\n",
    "    \n",
    "lst_2 = []\n",
    "for i in range(len(results2)):\n",
    "    status = results2[i]\n",
    "    dictionary = status._json\n",
    "    lst_2.append(dictionary)\n"
   ]
  },
  {
   "cell_type": "markdown",
   "metadata": {},
   "source": [
    "We now have a list of results for both queries. Let's look at how many retweets each tweet has:"
   ]
  },
  {
   "cell_type": "code",
   "execution_count": null,
   "metadata": {
    "collapsed": false
   },
   "outputs": [],
   "source": [
    "retweets1 = []\n",
    "retweets2 = []\n",
    "\n",
    "for item in lst_1:\n",
    "    retweets1.append(item[\"retweet_count\"])\n",
    "\n",
    "for item in lst_2:\n",
    "    retweets2.append(item[\"retweet_count\"])\n",
    "\n",
    "retweets1 = np.array(retweets1)\n",
    "retweets2 = np.array(retweets2)\n",
    "\n",
    "# Boxplot of retweets of tweets, by candidate\n",
    "fig, axis = plt.subplots()\n",
    "plt.boxplot([retweets1, retweets2], showfliers=False)\n",
    "plt.title(\"Retweets of tweets about candidates\")\n",
    "axis.set_xticklabels([\"Hillary\", \"Donald\"])"
   ]
  },
  {
   "cell_type": "markdown",
   "metadata": {},
   "source": [
    "Now let's compare how active on Twitter Hillary tweeters are vs. Donald tweeters. Let's look at two data points: the number of tweets on a user's page and the number of followers a user has.\n",
    "\n",
    "We will graph the results for Hillary in blue, and Donald in red."
   ]
  },
  {
   "cell_type": "code",
   "execution_count": null,
   "metadata": {
    "collapsed": false
   },
   "outputs": [],
   "source": [
    "hillary_num_tweets = []\n",
    "hillary_num_followers = []\n",
    "for item in lst_1:\n",
    "    hillary_num_tweets.append(item[\"user\"][\"statuses_count\"])\n",
    "    hillary_num_followers.append(item[\"user\"][\"followers_count\"])\n",
    "\n",
    "donald_num_tweets = []\n",
    "donald_num_followers = []\n",
    "for item in lst_2:\n",
    "    donald_num_tweets.append(item[\"user\"][\"statuses_count\"])\n",
    "    donald_num_followers.append(item[\"user\"][\"followers_count\"])\n",
    "    \n",
    "# A scatter plot of the data\n",
    "plt.scatter(hillary_num_tweets, hillary_num_followers, color='blue', label='Twitter users tweeting about Hillary')\n",
    "plt.scatter(donald_num_tweets, donald_num_followers, color='red', label='Twitter users tweeting about Donald')\n",
    "plt.legend()"
   ]
  },
  {
   "cell_type": "code",
   "execution_count": null,
   "metadata": {
    "collapsed": true
   },
   "outputs": [],
   "source": []
  }
 ],
 "metadata": {
  "kernelspec": {
   "display_name": "Python 3",
   "language": "python",
   "name": "python3"
  },
  "language_info": {
   "codemirror_mode": {
    "name": "ipython",
    "version": 3
   },
   "file_extension": ".py",
   "mimetype": "text/x-python",
   "name": "python",
   "nbconvert_exporter": "python",
   "pygments_lexer": "ipython3",
   "version": "3.4.5"
  }
 },
 "nbformat": 4,
 "nbformat_minor": 0
}
